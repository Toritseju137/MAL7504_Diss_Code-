{
  "cells": [
    {
      "cell_type": "markdown",
      "metadata": {
        "id": "qzdLm0F9scLh"
      },
      "source": [
        "## A Systematic Prediction of Clothing Recommendation for Women Aged 20-35 using Machine Learning."
      ]
    },
    {
      "cell_type": "markdown",
      "metadata": {
        "id": "rrDEINRSsl3k"
      },
      "source": [
        "**Background**\n",
        "\n",
        "The topic of predicting product recommendations using machine learning revolves around leveraging advanced algorithms and data analysis techniques to forecast and suggest products or services that are likely to be of interest to individual customers. By analyzing historical purchase data, user preferences, and other relevant information, machine learning models can be trained to make personalized recommendations, enhancing the customer experience and driving business growth. It is important to investigate the various strategies introduced to achieve a more efficient way of predicting product recommendation in order to better understand which techniques are to be used for the best possible outcome. The primary aim of forecasting is to better understand the patterns that impacts markets and consumer needs. This study utilizes the state-of-the-art methods used to predict product recommendation in the fashion industry that could be implemented in the real world. The methods implemented to forecast, the models and algorithms used within the methods, the datasets used, and also the trade-offs for each system and model used are described in this analysis. In particular, this analysis will further explore Machine Learning models that are widely applied to support the forecasting efforts carried out in the fashion industry. The scope of this analysis is for customers within the age of 20 to 35.\n",
        "\n",
        "**Date source**: www.kaggle.com/datasets/surajjha101/myntra-reviews-on-women-dresses-comprehensive\n",
        "\n",
        "**The Dataset**\n",
        "\n",
        "1) S.no: Number of data sample<br>\n",
        "2) Age: Age of the customer<br>\n",
        "3) Division name: Division of the cloth customer has bought<br>\n",
        "4) Department name: Department of the cloth<br>\n",
        "5) Class name: Class of the cloth in particular<br>\n",
        "6) Clothing id: Clothing ID (Unique to a type of product)<br>\n",
        "7) Title: Title customers write on their feedback/review text<br>\n",
        "8) Review text: Customer's review text<br>\n",
        "9) Alike feedback count: Number of other customers who agree with the given feedback (as their experience is quite the same)<br>\n",
        "10) Rating: Rating or stars they've given to the product<br>\n",
        "11) Recommend_index: Whether they'll recommend someone to buy the product or not(0: NO, 1: YES)\n"
      ]
    },
    {
      "cell_type": "code",
      "execution_count": 1,
      "metadata": {
        "id": "l4gKiEywaBDv"
      },
      "outputs": [],
      "source": [
        "%%capture\n",
        "pip install textacy"
      ]
    },
    {
      "cell_type": "code",
      "execution_count": 2,
      "metadata": {
        "id": "wZhX5wYxDtkp"
      },
      "outputs": [],
      "source": [
        "%%capture\n",
        "pip install dmba"
      ]
    },
    {
      "cell_type": "code",
      "execution_count": 3,
      "metadata": {
        "id": "FeKMfJbCmJti",
        "colab": {
          "base_uri": "https://localhost:8080/"
        },
        "outputId": "f4841740-f5a1-4ed6-9228-4e712a77506a"
      },
      "outputs": [
        {
          "output_type": "stream",
          "name": "stdout",
          "text": [
            "Colab environment detected.\n",
            "Mounted at /content/drive/\n"
          ]
        }
      ],
      "source": [
        "# Save the dataset in a folder on Google Drive and mount the drive contents on Google Colab\n",
        "from google.colab import drive\n",
        "\n",
        "# Importing necessary libraries\n",
        "import pandas as pd\n",
        "import numpy as np\n",
        "import matplotlib.pyplot as plt\n",
        "import seaborn as sns\n",
        "import warnings\n",
        "from scipy.stats import f_oneway, chi2_contingency\n",
        "import re\n",
        "import html\n",
        "import textacy.preprocessing as tprep\n",
        "from dmba import classificationSummary\n",
        "from sklearn.model_selection import train_test_split, RandomizedSearchCV, cross_val_score, GridSearchCV\n",
        "from sklearn.metrics import classification_report, confusion_matrix, roc_curve, auc, accuracy_score, roc_auc_score\n",
        "from sklearn.feature_extraction.text import TfidfVectorizer\n",
        "from sklearn.svm import LinearSVC\n",
        "from sklearn.ensemble import RandomForestClassifier\n",
        "from sklearn.pipeline import Pipeline\n",
        "\n",
        "# Display settings\n",
        "warnings.filterwarnings(\"ignore\", category=DeprecationWarning)\n",
        "warnings.simplefilter(\"ignore\")\n",
        "pd.set_option('display.max_columns', None)\n",
        "pd.set_option('display.max_rows', 500)\n",
        "\n",
        "# Set a random seed for reproducibility\n",
        "np.random.seed(42)\n",
        "\n",
        "# Set matplotlib to display plots inline\n",
        "%matplotlib inline\n",
        "\n",
        "# Mount the Google Drive contents\n",
        "drive.mount('/content/drive/')"
      ]
    },
    {
      "cell_type": "code",
      "execution_count": 4,
      "metadata": {
        "id": "k_1K_Em42Sj0"
      },
      "outputs": [],
      "source": [
        "# Some helper functions for visualising the dataset\n",
        "\n",
        "def without_hue(plot, feature):\n",
        "    total = len(feature)\n",
        "    for p in ax.patches:\n",
        "        percentage = '{:.1f}%'.format(100 * p.get_height()/total)\n",
        "        x = p.get_x() + p.get_width() / 2 - 0.05\n",
        "        y = p.get_y() + p.get_height()\n",
        "        ax.annotate(percentage, (x, y), size = 12)\n",
        "    plt.show()\n",
        "\n",
        "def with_hue(plot, feature, Number_of_categories, hue_categories):\n",
        "    a = [p.get_height() for p in plot.patches]\n",
        "    patch = [p for p in plot.patches]\n",
        "    for i in range(Number_of_categories):\n",
        "        total = feature.value_counts().values[i]\n",
        "        for j in range(hue_categories):\n",
        "            percentage = '{:.1f}%'.format(100 * a[(j*Number_of_categories + i)]/total)\n",
        "            x = patch[(j*Number_of_categories + i)].get_x() + patch[(j*Number_of_categories + i)].get_width() / 2 - 0.15\n",
        "            y = patch[(j*Number_of_categories + i)].get_y() + patch[(j*Number_of_categories + i)].get_height()\n",
        "            ax.annotate(percentage, (x, y), size = 12)\n",
        "    plt.show()"
      ]
    },
    {
      "cell_type": "code",
      "execution_count": 5,
      "metadata": {
        "id": "m1MaI8H8lweV"
      },
      "outputs": [],
      "source": [
        "# reading the dataset from the drive\n",
        "df = pd.read_csv(\"/content/drive/MyDrive/fashion prediction/Women Dresses Reviews Dataset.csv\")\n",
        "\n",
        "\n",
        "# Limiting this analysis to focus on customers within the defined age bracket (20 - 35)\n",
        "\n",
        "df = df[(df[\"age\"] >= 20) & (df[\"age\"] <= 35)]"
      ]
    },
    {
      "cell_type": "markdown",
      "metadata": {
        "id": "z21DQCib2c1n"
      },
      "source": [
        "**Preliminary Exploration of the Dataset**"
      ]
    },
    {
      "cell_type": "code",
      "execution_count": 6,
      "metadata": {
        "id": "YSMS7pdp2ivv",
        "colab": {
          "base_uri": "https://localhost:8080/",
          "height": 206
        },
        "outputId": "9b24e2c7-14a0-4455-e139-0e8500fcabaa"
      },
      "outputs": [
        {
          "output_type": "execute_result",
          "data": {
            "text/plain": [
              "    s.no  age   division_name department_name class_name  clothing_id  \\\n",
              "7      7   34         General            Tops      Knits          868   \n",
              "10    10   32         General            Tops      Knits          872   \n",
              "13    13   23         General         Bottoms     Skirts         1020   \n",
              "15    15   31         General         Dresses    Dresses         1086   \n",
              "19    19   35  General Petite            Tops    Blouses          835   \n",
              "\n",
              "                          title  \\\n",
              "7          Unique and wonderful   \n",
              "10                    Great fit   \n",
              "13  Cute, but not flattering on   \n",
              "15            Not for my curves   \n",
              "19                          NaN   \n",
              "\n",
              "                                          review_text  alike_feedback_count  \\\n",
              "7   The sweater is comfortable and a good weight. ...                     2   \n",
              "10  I have been searching around for new and uniqu...                     0   \n",
              "13  I really loved this skirt on the model, but it...                     0   \n",
              "15  5'7\", 34c, 28 jeans, size 4 dress. fell in lov...                     5   \n",
              "19  Beautiful top, i love the peplum. the color is...                     2   \n",
              "\n",
              "    rating  recommend_index  \n",
              "7        5                1  \n",
              "10       5                1  \n",
              "13       2                0  \n",
              "15       3                0  \n",
              "19       3                1  "
            ],
            "text/html": [
              "\n",
              "\n",
              "  <div id=\"df-16c669d2-3a33-49d9-b14a-12b996c59269\">\n",
              "    <div class=\"colab-df-container\">\n",
              "      <div>\n",
              "<style scoped>\n",
              "    .dataframe tbody tr th:only-of-type {\n",
              "        vertical-align: middle;\n",
              "    }\n",
              "\n",
              "    .dataframe tbody tr th {\n",
              "        vertical-align: top;\n",
              "    }\n",
              "\n",
              "    .dataframe thead th {\n",
              "        text-align: right;\n",
              "    }\n",
              "</style>\n",
              "<table border=\"1\" class=\"dataframe\">\n",
              "  <thead>\n",
              "    <tr style=\"text-align: right;\">\n",
              "      <th></th>\n",
              "      <th>s.no</th>\n",
              "      <th>age</th>\n",
              "      <th>division_name</th>\n",
              "      <th>department_name</th>\n",
              "      <th>class_name</th>\n",
              "      <th>clothing_id</th>\n",
              "      <th>title</th>\n",
              "      <th>review_text</th>\n",
              "      <th>alike_feedback_count</th>\n",
              "      <th>rating</th>\n",
              "      <th>recommend_index</th>\n",
              "    </tr>\n",
              "  </thead>\n",
              "  <tbody>\n",
              "    <tr>\n",
              "      <th>7</th>\n",
              "      <td>7</td>\n",
              "      <td>34</td>\n",
              "      <td>General</td>\n",
              "      <td>Tops</td>\n",
              "      <td>Knits</td>\n",
              "      <td>868</td>\n",
              "      <td>Unique and wonderful</td>\n",
              "      <td>The sweater is comfortable and a good weight. ...</td>\n",
              "      <td>2</td>\n",
              "      <td>5</td>\n",
              "      <td>1</td>\n",
              "    </tr>\n",
              "    <tr>\n",
              "      <th>10</th>\n",
              "      <td>10</td>\n",
              "      <td>32</td>\n",
              "      <td>General</td>\n",
              "      <td>Tops</td>\n",
              "      <td>Knits</td>\n",
              "      <td>872</td>\n",
              "      <td>Great fit</td>\n",
              "      <td>I have been searching around for new and uniqu...</td>\n",
              "      <td>0</td>\n",
              "      <td>5</td>\n",
              "      <td>1</td>\n",
              "    </tr>\n",
              "    <tr>\n",
              "      <th>13</th>\n",
              "      <td>13</td>\n",
              "      <td>23</td>\n",
              "      <td>General</td>\n",
              "      <td>Bottoms</td>\n",
              "      <td>Skirts</td>\n",
              "      <td>1020</td>\n",
              "      <td>Cute, but not flattering on</td>\n",
              "      <td>I really loved this skirt on the model, but it...</td>\n",
              "      <td>0</td>\n",
              "      <td>2</td>\n",
              "      <td>0</td>\n",
              "    </tr>\n",
              "    <tr>\n",
              "      <th>15</th>\n",
              "      <td>15</td>\n",
              "      <td>31</td>\n",
              "      <td>General</td>\n",
              "      <td>Dresses</td>\n",
              "      <td>Dresses</td>\n",
              "      <td>1086</td>\n",
              "      <td>Not for my curves</td>\n",
              "      <td>5'7\", 34c, 28 jeans, size 4 dress. fell in lov...</td>\n",
              "      <td>5</td>\n",
              "      <td>3</td>\n",
              "      <td>0</td>\n",
              "    </tr>\n",
              "    <tr>\n",
              "      <th>19</th>\n",
              "      <td>19</td>\n",
              "      <td>35</td>\n",
              "      <td>General Petite</td>\n",
              "      <td>Tops</td>\n",
              "      <td>Blouses</td>\n",
              "      <td>835</td>\n",
              "      <td>NaN</td>\n",
              "      <td>Beautiful top, i love the peplum. the color is...</td>\n",
              "      <td>2</td>\n",
              "      <td>3</td>\n",
              "      <td>1</td>\n",
              "    </tr>\n",
              "  </tbody>\n",
              "</table>\n",
              "</div>\n",
              "      <button class=\"colab-df-convert\" onclick=\"convertToInteractive('df-16c669d2-3a33-49d9-b14a-12b996c59269')\"\n",
              "              title=\"Convert this dataframe to an interactive table.\"\n",
              "              style=\"display:none;\">\n",
              "\n",
              "  <svg xmlns=\"http://www.w3.org/2000/svg\" height=\"24px\"viewBox=\"0 0 24 24\"\n",
              "       width=\"24px\">\n",
              "    <path d=\"M0 0h24v24H0V0z\" fill=\"none\"/>\n",
              "    <path d=\"M18.56 5.44l.94 2.06.94-2.06 2.06-.94-2.06-.94-.94-2.06-.94 2.06-2.06.94zm-11 1L8.5 8.5l.94-2.06 2.06-.94-2.06-.94L8.5 2.5l-.94 2.06-2.06.94zm10 10l.94 2.06.94-2.06 2.06-.94-2.06-.94-.94-2.06-.94 2.06-2.06.94z\"/><path d=\"M17.41 7.96l-1.37-1.37c-.4-.4-.92-.59-1.43-.59-.52 0-1.04.2-1.43.59L10.3 9.45l-7.72 7.72c-.78.78-.78 2.05 0 2.83L4 21.41c.39.39.9.59 1.41.59.51 0 1.02-.2 1.41-.59l7.78-7.78 2.81-2.81c.8-.78.8-2.07 0-2.86zM5.41 20L4 18.59l7.72-7.72 1.47 1.35L5.41 20z\"/>\n",
              "  </svg>\n",
              "      </button>\n",
              "\n",
              "\n",
              "\n",
              "    <div id=\"df-25a6724f-0582-4993-b083-0f47c721eb17\">\n",
              "      <button class=\"colab-df-quickchart\" onclick=\"quickchart('df-25a6724f-0582-4993-b083-0f47c721eb17')\"\n",
              "              title=\"Suggest charts.\"\n",
              "              style=\"display:none;\">\n",
              "\n",
              "<svg xmlns=\"http://www.w3.org/2000/svg\" height=\"24px\"viewBox=\"0 0 24 24\"\n",
              "     width=\"24px\">\n",
              "    <g>\n",
              "        <path d=\"M19 3H5c-1.1 0-2 .9-2 2v14c0 1.1.9 2 2 2h14c1.1 0 2-.9 2-2V5c0-1.1-.9-2-2-2zM9 17H7v-7h2v7zm4 0h-2V7h2v10zm4 0h-2v-4h2v4z\"/>\n",
              "    </g>\n",
              "</svg>\n",
              "      </button>\n",
              "    </div>\n",
              "\n",
              "<style>\n",
              "  .colab-df-quickchart {\n",
              "    background-color: #E8F0FE;\n",
              "    border: none;\n",
              "    border-radius: 50%;\n",
              "    cursor: pointer;\n",
              "    display: none;\n",
              "    fill: #1967D2;\n",
              "    height: 32px;\n",
              "    padding: 0 0 0 0;\n",
              "    width: 32px;\n",
              "  }\n",
              "\n",
              "  .colab-df-quickchart:hover {\n",
              "    background-color: #E2EBFA;\n",
              "    box-shadow: 0px 1px 2px rgba(60, 64, 67, 0.3), 0px 1px 3px 1px rgba(60, 64, 67, 0.15);\n",
              "    fill: #174EA6;\n",
              "  }\n",
              "\n",
              "  [theme=dark] .colab-df-quickchart {\n",
              "    background-color: #3B4455;\n",
              "    fill: #D2E3FC;\n",
              "  }\n",
              "\n",
              "  [theme=dark] .colab-df-quickchart:hover {\n",
              "    background-color: #434B5C;\n",
              "    box-shadow: 0px 1px 3px 1px rgba(0, 0, 0, 0.15);\n",
              "    filter: drop-shadow(0px 1px 2px rgba(0, 0, 0, 0.3));\n",
              "    fill: #FFFFFF;\n",
              "  }\n",
              "</style>\n",
              "\n",
              "    <script>\n",
              "      async function quickchart(key) {\n",
              "        const containerElement = document.querySelector('#' + key);\n",
              "        const charts = await google.colab.kernel.invokeFunction(\n",
              "            'suggestCharts', [key], {});\n",
              "      }\n",
              "    </script>\n",
              "\n",
              "      <script>\n",
              "\n",
              "function displayQuickchartButton(domScope) {\n",
              "  let quickchartButtonEl =\n",
              "    domScope.querySelector('#df-25a6724f-0582-4993-b083-0f47c721eb17 button.colab-df-quickchart');\n",
              "  quickchartButtonEl.style.display =\n",
              "    google.colab.kernel.accessAllowed ? 'block' : 'none';\n",
              "}\n",
              "\n",
              "        displayQuickchartButton(document);\n",
              "      </script>\n",
              "      <style>\n",
              "    .colab-df-container {\n",
              "      display:flex;\n",
              "      flex-wrap:wrap;\n",
              "      gap: 12px;\n",
              "    }\n",
              "\n",
              "    .colab-df-convert {\n",
              "      background-color: #E8F0FE;\n",
              "      border: none;\n",
              "      border-radius: 50%;\n",
              "      cursor: pointer;\n",
              "      display: none;\n",
              "      fill: #1967D2;\n",
              "      height: 32px;\n",
              "      padding: 0 0 0 0;\n",
              "      width: 32px;\n",
              "    }\n",
              "\n",
              "    .colab-df-convert:hover {\n",
              "      background-color: #E2EBFA;\n",
              "      box-shadow: 0px 1px 2px rgba(60, 64, 67, 0.3), 0px 1px 3px 1px rgba(60, 64, 67, 0.15);\n",
              "      fill: #174EA6;\n",
              "    }\n",
              "\n",
              "    [theme=dark] .colab-df-convert {\n",
              "      background-color: #3B4455;\n",
              "      fill: #D2E3FC;\n",
              "    }\n",
              "\n",
              "    [theme=dark] .colab-df-convert:hover {\n",
              "      background-color: #434B5C;\n",
              "      box-shadow: 0px 1px 3px 1px rgba(0, 0, 0, 0.15);\n",
              "      filter: drop-shadow(0px 1px 2px rgba(0, 0, 0, 0.3));\n",
              "      fill: #FFFFFF;\n",
              "    }\n",
              "  </style>\n",
              "\n",
              "      <script>\n",
              "        const buttonEl =\n",
              "          document.querySelector('#df-16c669d2-3a33-49d9-b14a-12b996c59269 button.colab-df-convert');\n",
              "        buttonEl.style.display =\n",
              "          google.colab.kernel.accessAllowed ? 'block' : 'none';\n",
              "\n",
              "        async function convertToInteractive(key) {\n",
              "          const element = document.querySelector('#df-16c669d2-3a33-49d9-b14a-12b996c59269');\n",
              "          const dataTable =\n",
              "            await google.colab.kernel.invokeFunction('convertToInteractive',\n",
              "                                                     [key], {});\n",
              "          if (!dataTable) return;\n",
              "\n",
              "          const docLinkHtml = 'Like what you see? Visit the ' +\n",
              "            '<a target=\"_blank\" href=https://colab.research.google.com/notebooks/data_table.ipynb>data table notebook</a>'\n",
              "            + ' to learn more about interactive tables.';\n",
              "          element.innerHTML = '';\n",
              "          dataTable['output_type'] = 'display_data';\n",
              "          await google.colab.output.renderOutput(dataTable, element);\n",
              "          const docLink = document.createElement('div');\n",
              "          docLink.innerHTML = docLinkHtml;\n",
              "          element.appendChild(docLink);\n",
              "        }\n",
              "      </script>\n",
              "    </div>\n",
              "  </div>\n"
            ]
          },
          "metadata": {},
          "execution_count": 6
        }
      ],
      "source": [
        "df.head()"
      ]
    },
    {
      "cell_type": "markdown",
      "metadata": {
        "id": "kz70ATOP2lE_"
      },
      "source": [
        ">*The table above shows the first five records in the dataset.*"
      ]
    },
    {
      "cell_type": "code",
      "execution_count": 7,
      "metadata": {
        "id": "pDvHcCpj3GuJ",
        "colab": {
          "base_uri": "https://localhost:8080/",
          "height": 143
        },
        "outputId": "a6284100-9c57-4110-df18-7d8ca6287b06"
      },
      "outputs": [
        {
          "output_type": "execute_result",
          "data": {
            "text/plain": [
              "                       count       mean       std   min   25%   50%   75%  \\\n",
              "age                   6932.0  29.950087  4.071265  20.0  27.0  31.0  33.0   \n",
              "alike_feedback_count  6932.0   2.210040  5.509428   0.0   0.0   0.0   2.0   \n",
              "rating                6932.0   4.163445  1.124215   1.0   4.0   5.0   5.0   \n",
              "\n",
              "                        max  \n",
              "age                    35.0  \n",
              "alike_feedback_count  122.0  \n",
              "rating                  5.0  "
            ],
            "text/html": [
              "\n",
              "\n",
              "  <div id=\"df-024685e2-f69b-41e9-8fd9-974962ede7b5\">\n",
              "    <div class=\"colab-df-container\">\n",
              "      <div>\n",
              "<style scoped>\n",
              "    .dataframe tbody tr th:only-of-type {\n",
              "        vertical-align: middle;\n",
              "    }\n",
              "\n",
              "    .dataframe tbody tr th {\n",
              "        vertical-align: top;\n",
              "    }\n",
              "\n",
              "    .dataframe thead th {\n",
              "        text-align: right;\n",
              "    }\n",
              "</style>\n",
              "<table border=\"1\" class=\"dataframe\">\n",
              "  <thead>\n",
              "    <tr style=\"text-align: right;\">\n",
              "      <th></th>\n",
              "      <th>count</th>\n",
              "      <th>mean</th>\n",
              "      <th>std</th>\n",
              "      <th>min</th>\n",
              "      <th>25%</th>\n",
              "      <th>50%</th>\n",
              "      <th>75%</th>\n",
              "      <th>max</th>\n",
              "    </tr>\n",
              "  </thead>\n",
              "  <tbody>\n",
              "    <tr>\n",
              "      <th>age</th>\n",
              "      <td>6932.0</td>\n",
              "      <td>29.950087</td>\n",
              "      <td>4.071265</td>\n",
              "      <td>20.0</td>\n",
              "      <td>27.0</td>\n",
              "      <td>31.0</td>\n",
              "      <td>33.0</td>\n",
              "      <td>35.0</td>\n",
              "    </tr>\n",
              "    <tr>\n",
              "      <th>alike_feedback_count</th>\n",
              "      <td>6932.0</td>\n",
              "      <td>2.210040</td>\n",
              "      <td>5.509428</td>\n",
              "      <td>0.0</td>\n",
              "      <td>0.0</td>\n",
              "      <td>0.0</td>\n",
              "      <td>2.0</td>\n",
              "      <td>122.0</td>\n",
              "    </tr>\n",
              "    <tr>\n",
              "      <th>rating</th>\n",
              "      <td>6932.0</td>\n",
              "      <td>4.163445</td>\n",
              "      <td>1.124215</td>\n",
              "      <td>1.0</td>\n",
              "      <td>4.0</td>\n",
              "      <td>5.0</td>\n",
              "      <td>5.0</td>\n",
              "      <td>5.0</td>\n",
              "    </tr>\n",
              "  </tbody>\n",
              "</table>\n",
              "</div>\n",
              "      <button class=\"colab-df-convert\" onclick=\"convertToInteractive('df-024685e2-f69b-41e9-8fd9-974962ede7b5')\"\n",
              "              title=\"Convert this dataframe to an interactive table.\"\n",
              "              style=\"display:none;\">\n",
              "\n",
              "  <svg xmlns=\"http://www.w3.org/2000/svg\" height=\"24px\"viewBox=\"0 0 24 24\"\n",
              "       width=\"24px\">\n",
              "    <path d=\"M0 0h24v24H0V0z\" fill=\"none\"/>\n",
              "    <path d=\"M18.56 5.44l.94 2.06.94-2.06 2.06-.94-2.06-.94-.94-2.06-.94 2.06-2.06.94zm-11 1L8.5 8.5l.94-2.06 2.06-.94-2.06-.94L8.5 2.5l-.94 2.06-2.06.94zm10 10l.94 2.06.94-2.06 2.06-.94-2.06-.94-.94-2.06-.94 2.06-2.06.94z\"/><path d=\"M17.41 7.96l-1.37-1.37c-.4-.4-.92-.59-1.43-.59-.52 0-1.04.2-1.43.59L10.3 9.45l-7.72 7.72c-.78.78-.78 2.05 0 2.83L4 21.41c.39.39.9.59 1.41.59.51 0 1.02-.2 1.41-.59l7.78-7.78 2.81-2.81c.8-.78.8-2.07 0-2.86zM5.41 20L4 18.59l7.72-7.72 1.47 1.35L5.41 20z\"/>\n",
              "  </svg>\n",
              "      </button>\n",
              "\n",
              "\n",
              "\n",
              "    <div id=\"df-fdb6cfc6-c8f1-4b58-8bfd-1a27c861ea08\">\n",
              "      <button class=\"colab-df-quickchart\" onclick=\"quickchart('df-fdb6cfc6-c8f1-4b58-8bfd-1a27c861ea08')\"\n",
              "              title=\"Suggest charts.\"\n",
              "              style=\"display:none;\">\n",
              "\n",
              "<svg xmlns=\"http://www.w3.org/2000/svg\" height=\"24px\"viewBox=\"0 0 24 24\"\n",
              "     width=\"24px\">\n",
              "    <g>\n",
              "        <path d=\"M19 3H5c-1.1 0-2 .9-2 2v14c0 1.1.9 2 2 2h14c1.1 0 2-.9 2-2V5c0-1.1-.9-2-2-2zM9 17H7v-7h2v7zm4 0h-2V7h2v10zm4 0h-2v-4h2v4z\"/>\n",
              "    </g>\n",
              "</svg>\n",
              "      </button>\n",
              "    </div>\n",
              "\n",
              "<style>\n",
              "  .colab-df-quickchart {\n",
              "    background-color: #E8F0FE;\n",
              "    border: none;\n",
              "    border-radius: 50%;\n",
              "    cursor: pointer;\n",
              "    display: none;\n",
              "    fill: #1967D2;\n",
              "    height: 32px;\n",
              "    padding: 0 0 0 0;\n",
              "    width: 32px;\n",
              "  }\n",
              "\n",
              "  .colab-df-quickchart:hover {\n",
              "    background-color: #E2EBFA;\n",
              "    box-shadow: 0px 1px 2px rgba(60, 64, 67, 0.3), 0px 1px 3px 1px rgba(60, 64, 67, 0.15);\n",
              "    fill: #174EA6;\n",
              "  }\n",
              "\n",
              "  [theme=dark] .colab-df-quickchart {\n",
              "    background-color: #3B4455;\n",
              "    fill: #D2E3FC;\n",
              "  }\n",
              "\n",
              "  [theme=dark] .colab-df-quickchart:hover {\n",
              "    background-color: #434B5C;\n",
              "    box-shadow: 0px 1px 3px 1px rgba(0, 0, 0, 0.15);\n",
              "    filter: drop-shadow(0px 1px 2px rgba(0, 0, 0, 0.3));\n",
              "    fill: #FFFFFF;\n",
              "  }\n",
              "</style>\n",
              "\n",
              "    <script>\n",
              "      async function quickchart(key) {\n",
              "        const containerElement = document.querySelector('#' + key);\n",
              "        const charts = await google.colab.kernel.invokeFunction(\n",
              "            'suggestCharts', [key], {});\n",
              "      }\n",
              "    </script>\n",
              "\n",
              "      <script>\n",
              "\n",
              "function displayQuickchartButton(domScope) {\n",
              "  let quickchartButtonEl =\n",
              "    domScope.querySelector('#df-fdb6cfc6-c8f1-4b58-8bfd-1a27c861ea08 button.colab-df-quickchart');\n",
              "  quickchartButtonEl.style.display =\n",
              "    google.colab.kernel.accessAllowed ? 'block' : 'none';\n",
              "}\n",
              "\n",
              "        displayQuickchartButton(document);\n",
              "      </script>\n",
              "      <style>\n",
              "    .colab-df-container {\n",
              "      display:flex;\n",
              "      flex-wrap:wrap;\n",
              "      gap: 12px;\n",
              "    }\n",
              "\n",
              "    .colab-df-convert {\n",
              "      background-color: #E8F0FE;\n",
              "      border: none;\n",
              "      border-radius: 50%;\n",
              "      cursor: pointer;\n",
              "      display: none;\n",
              "      fill: #1967D2;\n",
              "      height: 32px;\n",
              "      padding: 0 0 0 0;\n",
              "      width: 32px;\n",
              "    }\n",
              "\n",
              "    .colab-df-convert:hover {\n",
              "      background-color: #E2EBFA;\n",
              "      box-shadow: 0px 1px 2px rgba(60, 64, 67, 0.3), 0px 1px 3px 1px rgba(60, 64, 67, 0.15);\n",
              "      fill: #174EA6;\n",
              "    }\n",
              "\n",
              "    [theme=dark] .colab-df-convert {\n",
              "      background-color: #3B4455;\n",
              "      fill: #D2E3FC;\n",
              "    }\n",
              "\n",
              "    [theme=dark] .colab-df-convert:hover {\n",
              "      background-color: #434B5C;\n",
              "      box-shadow: 0px 1px 3px 1px rgba(0, 0, 0, 0.15);\n",
              "      filter: drop-shadow(0px 1px 2px rgba(0, 0, 0, 0.3));\n",
              "      fill: #FFFFFF;\n",
              "    }\n",
              "  </style>\n",
              "\n",
              "      <script>\n",
              "        const buttonEl =\n",
              "          document.querySelector('#df-024685e2-f69b-41e9-8fd9-974962ede7b5 button.colab-df-convert');\n",
              "        buttonEl.style.display =\n",
              "          google.colab.kernel.accessAllowed ? 'block' : 'none';\n",
              "\n",
              "        async function convertToInteractive(key) {\n",
              "          const element = document.querySelector('#df-024685e2-f69b-41e9-8fd9-974962ede7b5');\n",
              "          const dataTable =\n",
              "            await google.colab.kernel.invokeFunction('convertToInteractive',\n",
              "                                                     [key], {});\n",
              "          if (!dataTable) return;\n",
              "\n",
              "          const docLinkHtml = 'Like what you see? Visit the ' +\n",
              "            '<a target=\"_blank\" href=https://colab.research.google.com/notebooks/data_table.ipynb>data table notebook</a>'\n",
              "            + ' to learn more about interactive tables.';\n",
              "          element.innerHTML = '';\n",
              "          dataTable['output_type'] = 'display_data';\n",
              "          await google.colab.output.renderOutput(dataTable, element);\n",
              "          const docLink = document.createElement('div');\n",
              "          docLink.innerHTML = docLinkHtml;\n",
              "          element.appendChild(docLink);\n",
              "        }\n",
              "      </script>\n",
              "    </div>\n",
              "  </div>\n"
            ]
          },
          "metadata": {},
          "execution_count": 7
        }
      ],
      "source": [
        "df[[\"age\", \"alike_feedback_count\", \"rating\"]].describe().T"
      ]
    },
    {
      "cell_type": "markdown",
      "metadata": {
        "id": "hQEEqI1r471m"
      },
      "source": [
        ">*The table above shows the summary statistics of the numerical variables in the dataset. This includes the count, mean, standard deviation, 25th percentile, 50th percentile, 75th percentile, and the maximum value.*\n",
        "\n",
        ">*age has **mean** (29.95), **median** (31.0) and **standard deviation** (4.07)*\n",
        "\n",
        ">*alike feedback count has **mean** (2.21), **median** (0.0) and **standard deviation** (5.51)*\n",
        "\n",
        ">*rating has **mean** (4.16), **median** (5.0) and **standard deviation** (1.12)*"
      ]
    },
    {
      "cell_type": "code",
      "source": [
        "len(df)"
      ],
      "metadata": {
        "id": "5n_4Dts3FV7t",
        "colab": {
          "base_uri": "https://localhost:8080/"
        },
        "outputId": "4cc892f1-7725-49ef-f169-98af430dd7bb"
      },
      "execution_count": 8,
      "outputs": [
        {
          "output_type": "execute_result",
          "data": {
            "text/plain": [
              "6932"
            ]
          },
          "metadata": {},
          "execution_count": 8
        }
      ]
    },
    {
      "cell_type": "code",
      "execution_count": 9,
      "metadata": {
        "id": "0dWCpr1l8RfW",
        "colab": {
          "base_uri": "https://localhost:8080/"
        },
        "outputId": "9f99bc64-142b-4a78-b2a5-ac5a44ea6a2c"
      },
      "outputs": [
        {
          "output_type": "execute_result",
          "data": {
            "text/plain": [
              "(6932, 11)"
            ]
          },
          "metadata": {},
          "execution_count": 9
        }
      ],
      "source": [
        "df.shape"
      ]
    },
    {
      "cell_type": "markdown",
      "metadata": {
        "id": "XK9ox4wK8WNI"
      },
      "source": [
        ">*The dataset contains 6,932 records and 11 columns.*"
      ]
    },
    {
      "cell_type": "code",
      "execution_count": 10,
      "metadata": {
        "id": "xdL5nb849No0",
        "colab": {
          "base_uri": "https://localhost:8080/"
        },
        "outputId": "f2db7eb4-5745-443a-8d04-8ac9ce6ef1b7"
      },
      "outputs": [
        {
          "output_type": "execute_result",
          "data": {
            "text/plain": [
              "(6932, 5)"
            ]
          },
          "metadata": {},
          "execution_count": 10
        }
      ],
      "source": [
        "df[df.dtypes[df.dtypes == \"object\"].index].shape"
      ]
    },
    {
      "cell_type": "markdown",
      "metadata": {
        "id": "JDPHR84m9n1r"
      },
      "source": [
        ">*The dataset contains 5 categorical features*"
      ]
    },
    {
      "cell_type": "code",
      "execution_count": 11,
      "metadata": {
        "id": "eUAVt3SF9sB3",
        "colab": {
          "base_uri": "https://localhost:8080/"
        },
        "outputId": "ac5e6cbe-db12-457e-e366-7ae7f3ae1f1f"
      },
      "outputs": [
        {
          "output_type": "execute_result",
          "data": {
            "text/plain": [
              "(6932, 6)"
            ]
          },
          "metadata": {},
          "execution_count": 11
        }
      ],
      "source": [
        "df[df.dtypes[df.dtypes == \"int64\"].index].shape"
      ]
    },
    {
      "cell_type": "markdown",
      "metadata": {
        "id": "utv2v-XD90_U"
      },
      "source": [
        ">*The dataset contains 6 numeric features*"
      ]
    },
    {
      "cell_type": "code",
      "execution_count": 12,
      "metadata": {
        "id": "8zBnBtIb-HJC",
        "colab": {
          "base_uri": "https://localhost:8080/"
        },
        "outputId": "a96fe250-29c6-4679-e26d-8525d8ec43b1"
      },
      "outputs": [
        {
          "output_type": "execute_result",
          "data": {
            "text/plain": [
              "s.no                       0\n",
              "age                        0\n",
              "division_name              4\n",
              "department_name            4\n",
              "class_name                 4\n",
              "clothing_id                0\n",
              "title                   1162\n",
              "review_text              296\n",
              "alike_feedback_count       0\n",
              "rating                     0\n",
              "recommend_index            0\n",
              "dtype: int64"
            ]
          },
          "metadata": {},
          "execution_count": 12
        }
      ],
      "source": [
        "df.isna().sum()"
      ]
    },
    {
      "cell_type": "markdown",
      "metadata": {
        "id": "zrpzULM_-Mnj"
      },
      "source": [
        ">*The features with missing values in the dataset are division name, department name, class name, title and review text. The missing values in these features will be treated using appropriate techniques.*"
      ]
    },
    {
      "cell_type": "code",
      "execution_count": 13,
      "metadata": {
        "id": "EAs6WvBxAIJO",
        "colab": {
          "base_uri": "https://localhost:8080/"
        },
        "outputId": "7a3cee29-73b5-4d2c-d271-25066487aaee"
      },
      "outputs": [
        {
          "output_type": "stream",
          "name": "stdout",
          "text": [
            "<class 'pandas.core.frame.DataFrame'>\n",
            "Int64Index: 6932 entries, 7 to 23483\n",
            "Data columns (total 11 columns):\n",
            " #   Column                Non-Null Count  Dtype \n",
            "---  ------                --------------  ----- \n",
            " 0   s.no                  6932 non-null   int64 \n",
            " 1   age                   6932 non-null   int64 \n",
            " 2   division_name         6928 non-null   object\n",
            " 3   department_name       6928 non-null   object\n",
            " 4   class_name            6928 non-null   object\n",
            " 5   clothing_id           6932 non-null   int64 \n",
            " 6   title                 5770 non-null   object\n",
            " 7   review_text           6636 non-null   object\n",
            " 8   alike_feedback_count  6932 non-null   int64 \n",
            " 9   rating                6932 non-null   int64 \n",
            " 10  recommend_index       6932 non-null   int64 \n",
            "dtypes: int64(6), object(5)\n",
            "memory usage: 649.9+ KB\n"
          ]
        }
      ],
      "source": [
        "df.info()"
      ]
    },
    {
      "cell_type": "markdown",
      "metadata": {
        "id": "Xs6dQ_1JANCg"
      },
      "source": [
        ">*The info method shows the range index(the number of entries in the data), the column names, the number of non missing values and the variable type. The data contains only integer and object values.*"
      ]
    },
    {
      "cell_type": "markdown",
      "metadata": {
        "id": "Enve6Si3BEFc"
      },
      "source": [
        "**Exploratory Data Analysis and Visualisation**"
      ]
    },
    {
      "cell_type": "markdown",
      "metadata": {
        "id": "LQNv4HLcBG_7"
      },
      "source": [
        ">*The popular saying \"a picture is worth a thousand words\" refers to the ability to condense diffused verbal information into a compact and quickly understood graphical image. In the case of numbers, data visualization and numerical summarization provide both a powerful tool to explore data and an effective way to present results. Visualization techniques are primarily used in the preprocessing portion of the data mining process. Visualisation supports data cleaning by finding incorrect values, missing values, duplicate rows, columns with all the same value, and the like. Visualisation techniques are also useful for variable derivation and selection: they can help determine which variables to include in the analysis and which might be redundant. They can also help with determining appropriate bin sizes, should binning of numerical variables be needed. They can also play a role in combining categories as part of the data reduction process. In this study, some of the visuals used include barcharts and histogram.*"
      ]
    },
    {
      "cell_type": "markdown",
      "metadata": {
        "id": "8vUwyprvBeo-"
      },
      "source": [
        "**Heatmap of Missing Values in the Dataset. Grey Denotes Missing Value**"
      ]
    },
    {
      "cell_type": "markdown",
      "metadata": {
        "id": "SMh-golwBj6f"
      },
      "source": [
        ">*In a missing value heatmap, rows correspond to records and columns to variables. Binary coding of the original dataset is done where 1 denotes a missing value and  otherwise. This new binary table is then coloured such that only missing value cells (with value 1) are coloured.*"
      ]
    },
    {
      "cell_type": "code",
      "execution_count": 14,
      "metadata": {
        "id": "TQXI8vi4Bml1",
        "colab": {
          "base_uri": "https://localhost:8080/",
          "height": 707
        },
        "outputId": "23cfef0c-9f4a-4b3f-fe74-c5650cb5d34b"
      },
      "outputs": [
        {
          "output_type": "display_data",
          "data": {
            "text/plain": [
              "<Figure size 1000x700 with 1 Axes>"
            ],
            "image/png": "[encoded data removed]"
          },
          "metadata": {}
        }
      ],
      "source": [
        "# Given a dataframe df create a copy of the array that is 0 if a field contains a value\n",
        "# and 1 for NaN\n",
        "naInfo = np.zeros(df.shape)\n",
        "naInfo[df.isna().values] = 1\n",
        "naInfo = pd.DataFrame(naInfo, columns=df.columns)\n",
        "\n",
        "fig, ax = plt.subplots()\n",
        "fig.set_size_inches(10, 7)\n",
        "ax = sns.heatmap(naInfo, vmin=0, vmax=1, cmap=[\"white\", \"#444444\"], cbar=False, ax=ax)\n",
        "ax.set_yticks([])\n",
        "\n",
        "rect = plt.Rectangle((0, 0), naInfo.shape[1], naInfo.shape[0], linewidth=1,\n",
        "                     edgecolor='lightgrey',facecolor='none')\n",
        "rect = ax.add_patch(rect)\n",
        "rect.set_clip_on(False)\n",
        "\n",
        "plt.xticks(rotation=80)\n",
        "plt.tight_layout()\n",
        "plt.show()"
      ]
    },
    {
      "cell_type": "markdown",
      "metadata": {
        "id": "mjtP0DKhCZ49"
      },
      "source": [
        ">*The heatmap above shows that title is the variable containing the highest number of missing values. One of the possible approaches to address this might be to eliminate all the records containing missing values for review text. This method will be relevant if a significant number of records are retained for modelling.*"
      ]
    },
    {
      "cell_type": "markdown",
      "metadata": {
        "id": "4urKFFJBEuMg"
      },
      "source": [
        "**Univariate Analysis on division name, department name and rating**"
      ]
    },
    {
      "cell_type": "code",
      "execution_count": 15,
      "metadata": {
        "id": "xbVsI8wa20K5",
        "colab": {
          "base_uri": "https://localhost:8080/",
          "height": 472
        },
        "outputId": "8c2344e0-5dc7-438e-c4ae-01c57efdf63a"
      },
      "outputs": [
        {
          "output_type": "display_data",
          "data": {
            "text/plain": [
              "<Figure size 640x480 with 1 Axes>"
            ],
            "image/png": "[encoded data removed]"
          },
          "metadata": {}
        }
      ],
      "source": [
        "# checking the division name\n",
        "ax = sns.countplot(x=\"division_name\", data = df, order = df[\"division_name\"].value_counts().index)\n",
        "ax.set(title='Frequency Distribution of division name among women aged 20-35')\n",
        "without_hue(ax, df[\"division_name\"])"
      ]
    },
    {
      "cell_type": "markdown",
      "metadata": {
        "id": "W8077XNmF4vK"
      },
      "source": [
        ">*The chart above shows that women within the age bracket of 18-99 buy more of general clothes and they purchase less of intimates clothes.*"
      ]
    },
    {
      "cell_type": "code",
      "execution_count": 16,
      "metadata": {
        "id": "dpIAFiQ8mVdS",
        "colab": {
          "base_uri": "https://localhost:8080/",
          "height": 472
        },
        "outputId": "28bf62f5-0df5-43f5-a6e2-f81eadaf8da9"
      },
      "outputs": [
        {
          "output_type": "display_data",
          "data": {
            "text/plain": [
              "<Figure size 640x480 with 1 Axes>"
            ],
            "image/png": "[encoded data removed]"
          },
          "metadata": {}
        }
      ],
      "source": [
        "# checking department name\n",
        "ax = sns.countplot(x=\"department_name\", data = df, order = df[\"department_name\"].value_counts().index)\n",
        "ax.set(title='Frequency distribution of department name among women aged 20-35')\n",
        "without_hue(ax, df[\"department_name\"])"
      ]
    },
    {
      "cell_type": "markdown",
      "metadata": {
        "id": "gciQceIONqUb"
      },
      "source": [
        ">*The chart above shows that 40.5% of women within the age bracket of 20-35 purchase tops, 30.0% purchase dresses, 15.3% purchase bottoms, 9.2% purchase intimate clothes, 4.5% purchase jackets and 0.4% purchase trendy clothes. The chart shows the preference of these consumers as regards what appeals to their fashion sense.*"
      ]
    },
    {
      "cell_type": "code",
      "execution_count": 17,
      "metadata": {
        "id": "Aw9GuaJumOZD",
        "colab": {
          "base_uri": "https://localhost:8080/",
          "height": 472
        },
        "outputId": "f00bbee0-1f2f-43b4-c4c5-9a1a8c7208ae"
      },
      "outputs": [
        {
          "output_type": "display_data",
          "data": {
            "text/plain": [
              "<Figure size 640x480 with 1 Axes>"
            ],
            "image/png": "[encoded data removed]"
          },
          "metadata": {}
        }
      ],
      "source": [
        "# checking rating\n",
        "ax = sns.countplot(x=\"rating\", data = df, order = df[\"rating\"].value_counts().index)\n",
        "ax.set(title='Frequency distribution of rating among women aged 20-35')\n",
        "without_hue(ax, df[\"rating\"])"
      ]
    },
    {
      "cell_type": "markdown",
      "metadata": {
        "id": "Xw3i02iFPWfd"
      },
      "source": [
        ">*The chart above shows that 54.7% of fashion products are given a rating of 5, 21.2% are given a rating of 4, 13.2% are given a rating of 3, 7.2% are given a rating of 2 and 3.6% are given a rating of 1. This means most products are purchased by women within the age bracket are of a good quality.*"
      ]
    },
    {
      "cell_type": "markdown",
      "metadata": {
        "id": "dlNY9UAAQ2RB"
      },
      "source": [
        "**Bivariate Analysis on division name, department name and rating**"
      ]
    },
    {
      "cell_type": "markdown",
      "metadata": {
        "id": "qgmnraPNPIJ8"
      },
      "source": [
        ">*In this section, division name, department name and rating will also be explored with respect to the target feature (recommend_index). The underlying idea is to quantify the relationships between each independent variable and dependent variables at certain levels of values for each variable, this can help in identifying a subset of the variables that are more important and also know about the important levels of particular features values.*"
      ]
    },
    {
      "cell_type": "code",
      "execution_count": 18,
      "metadata": {
        "id": "NpysevWcQo5Z",
        "colab": {
          "base_uri": "https://localhost:8080/",
          "height": 718
        },
        "outputId": "054bf4d5-92b8-40ac-c99a-3c03086181d2"
      },
      "outputs": [
        {
          "output_type": "display_data",
          "data": {
            "text/plain": [
              "<Figure size 1000x800 with 1 Axes>"
            ],
            "image/png": "[encoded data removed]"
          },
          "metadata": {}
        }
      ],
      "source": [
        "plt.figure(figsize=(10,8))\n",
        "ax = sns.countplot(x = 'division_name', data = df,hue='recommend_index', order = df['division_name'].value_counts().index)\n",
        "ax.set(title = \"Frequency distribution of division name wrt to their recommendation\")\n",
        "with_hue(ax, df['division_name'], df['division_name'].nunique(), df['recommend_index'].nunique())"
      ]
    },
    {
      "cell_type": "markdown",
      "metadata": {
        "id": "mD9Cyfp1Tzqj"
      },
      "source": [
        ">*The chart above shows that most of the fashion products not recommended belong to the general division and the disparity between the recommendations for each of the division name is very high.*"
      ]
    },
    {
      "cell_type": "code",
      "execution_count": 19,
      "metadata": {
        "id": "rRRuoU5eUgZv",
        "colab": {
          "base_uri": "https://localhost:8080/",
          "height": 718
        },
        "outputId": "c2fe41c2-f0cb-497d-d0c3-5788b1a60d83"
      },
      "outputs": [
        {
          "output_type": "display_data",
          "data": {
            "text/plain": [
              "<Figure size 1000x800 with 1 Axes>"
            ],
            "image/png": "[encoded data removed]"
          },
          "metadata": {}
        }
      ],
      "source": [
        "plt.figure(figsize=(10,8))\n",
        "ax = sns.countplot(x = 'department_name', data = df,hue='recommend_index', order = df['department_name'].value_counts().index)\n",
        "ax.set(title = \"Frequency distribution of department name wrt to their recommendation\")\n",
        "with_hue(ax, df['department_name'], df['department_name'].nunique(), df['recommend_index'].nunique())"
      ]
    },
    {
      "cell_type": "markdown",
      "metadata": {
        "id": "Un1Z8RUzVFNt"
      },
      "source": [
        ">*The chart above shows the frequency distribution of each department based on their recommendation. The tops departments which have the highest frequency has 79.7% of recommendation and 20.3% no recommendation, Dresses have 79.9% recommendation and 20.1% no recommendation, bottoms have 83.0% recommendations and 17.0% no recommendation, Intimates have 84.7% recommendation and 15.3% no recommendation, Jackets have 80.4% recommendation and 19.6% no recommendation while trendy wears have 78.6% recommendation and 21.4% no recommendation.*"
      ]
    },
    {
      "cell_type": "code",
      "execution_count": 20,
      "metadata": {
        "id": "jHqGjvHORdri",
        "colab": {
          "base_uri": "https://localhost:8080/",
          "height": 718
        },
        "outputId": "12f96a6e-dcfa-4acd-b71f-684986826718"
      },
      "outputs": [
        {
          "output_type": "display_data",
          "data": {
            "text/plain": [
              "<Figure size 1000x800 with 1 Axes>"
            ],
            "image/png": "[encoded data removed]"
          },
          "metadata": {}
        }
      ],
      "source": [
        "plt.figure(figsize=(10,8))\n",
        "ax = sns.countplot(x = 'rating', data = df,hue='recommend_index', order = df['rating'].value_counts().index)\n",
        "ax.set(title = \"Frequency distribution of rating wrt to their recommendation\")\n",
        "with_hue(ax, df['rating'], df['rating'].nunique(), df['recommend_index'].nunique())"
      ]
    },
    {
      "cell_type": "markdown",
      "metadata": {
        "id": "ciCqSY0CWrbD"
      },
      "source": [
        ">*The chart above clearly shows most products with a rating of 5 are recommended while most of the products with a rating of 1 are not recommended.*"
      ]
    },
    {
      "cell_type": "markdown",
      "metadata": {
        "id": "wRvad0dUb3xu"
      },
      "source": [
        "**Treating Missing Values**"
      ]
    },
    {
      "cell_type": "markdown",
      "metadata": {
        "id": "koKzDJyoaXGr"
      },
      "source": [
        "**Treating missing values by removing all records that contain them**"
      ]
    },
    {
      "cell_type": "markdown",
      "metadata": {
        "id": "5poLdO_gcIam"
      },
      "source": [
        ">*The data contain missing values, with title being the column with the highest number of missing values. An approach to dealing with a data with missing values is by removing all records that contain them. This method will be applied in this scenario.*"
      ]
    },
    {
      "cell_type": "code",
      "execution_count": 21,
      "metadata": {
        "id": "fZ9fgI0Fahc6",
        "colab": {
          "base_uri": "https://localhost:8080/"
        },
        "outputId": "a9055bf1-f106-464c-8a50-67cf4ec493de"
      },
      "outputs": [
        {
          "output_type": "execute_result",
          "data": {
            "text/plain": [
              "(5765, 11)"
            ]
          },
          "metadata": {},
          "execution_count": 21
        }
      ],
      "source": [
        "df_a = df.copy()\n",
        "df_a = df_a.dropna(axis = 0, how = \"any\")\n",
        "df_a.shape"
      ]
    },
    {
      "cell_type": "markdown",
      "metadata": {
        "id": "fWeB2HQ_csSN"
      },
      "source": [
        ">*Using this method, the 16.83% of the records were dropped. The rows have now been reduced to 5,765 which is sufficient for the modelling.*"
      ]
    },
    {
      "cell_type": "markdown",
      "metadata": {
        "id": "BgQDWVlPfHU9"
      },
      "source": [
        "**Feature Selection**"
      ]
    },
    {
      "cell_type": "markdown",
      "metadata": {
        "id": "czLyCYfofVf_"
      },
      "source": [
        ">*The feature selection method employed for this study is the chi-square test and the ANOVA test.The ANOVA test method is used for statistical measurement of relationship strength between the categorical target variable (recommend_index) and the continuous predictor (age and alike_feedback_count) while the chi-square test is used to test the relationship between the categorical target variable (recommend_index) and the categorical predictors (division_name, department_name, and class name). Title and Review text which are critical predictors will be combined, cleaned and tokenized before the modelling process.*"
      ]
    },
    {
      "cell_type": "markdown",
      "metadata": {
        "id": "XdqUhBOvmAOE"
      },
      "source": [
        "**Statistical Feature Selection (Categorical Vs Continuous) using ANOVA test**\n",
        "\n",
        "Analysis of variance (ANOVA) is performed to check if there is any relationship between the given continuous and categorical variable.\n",
        "- Assumption(H0): There is NO relationship between the given variables (i.e The average (mean) values of the numeric predictor variable is same for all the groups in the categorical target variable).\n",
        "- ANOVA test result: Probability of H0 being true."
      ]
    },
    {
      "cell_type": "code",
      "execution_count": 22,
      "metadata": {
        "id": "wrGj6flzhnkg"
      },
      "outputs": [],
      "source": [
        "# Defining a function to find the statistical relationship with all the categorical variables\n",
        "def FunctionAnova(inpData, TargetVariable, ContinuousPredictorList):\n",
        "    # Creating an empty list of final selected predictors\n",
        "    SelectedPredictors=[]\n",
        "\n",
        "    print('##### ANOVA Results ##### \\n')\n",
        "    for predictor in ContinuousPredictorList:\n",
        "        CategoryGroupLists=inpData.groupby(TargetVariable)[predictor].apply(list)\n",
        "        AnovaResults = f_oneway(*CategoryGroupLists)\n",
        "\n",
        "        # If the ANOVA P-Value is <0.05, that means we reject H0\n",
        "        if (AnovaResults[1] < 0.05):\n",
        "            print(predictor, 'is correlated with', TargetVariable, '| P-Value:', AnovaResults[1])\n",
        "            SelectedPredictors.append(predictor)\n",
        "        else:\n",
        "            print(predictor, 'is NOT correlated with', TargetVariable, '| P-Value:', AnovaResults[1])\n",
        "\n",
        "    return(SelectedPredictors)"
      ]
    },
    {
      "cell_type": "code",
      "execution_count": 23,
      "metadata": {
        "id": "Mp1YUX8fma1O",
        "colab": {
          "base_uri": "https://localhost:8080/"
        },
        "outputId": "5a62e3af-38fb-4a2c-d750-bf786f783e52"
      },
      "outputs": [
        {
          "output_type": "stream",
          "name": "stdout",
          "text": [
            "##### ANOVA Results ##### \n",
            "\n",
            "age is correlated with recommend_index | P-Value: 0.0023740022997479375\n",
            "alike_feedback_count is correlated with recommend_index | P-Value: 1.9976410807102355e-05\n"
          ]
        },
        {
          "output_type": "execute_result",
          "data": {
            "text/plain": [
              "['age', 'alike_feedback_count']"
            ]
          },
          "metadata": {},
          "execution_count": 23
        }
      ],
      "source": [
        "# Calling the function to check which continuous variables are correlated with target\n",
        "ContinuousVariables=[\"age\", \"alike_feedback_count\"]\n",
        "FunctionAnova(inpData=df_a, TargetVariable=\"recommend_index\", ContinuousPredictorList=ContinuousVariables)"
      ]
    },
    {
      "cell_type": "markdown",
      "metadata": {
        "id": "Rn0dzgp7m_EP"
      },
      "source": [
        ">*The results of ANOVA confirms that age and alike_feedback_count are correlated with the target class. These predictors will also be used for modelling.*"
      ]
    },
    {
      "cell_type": "markdown",
      "metadata": {
        "id": "8YPc1OOPrEzF"
      },
      "source": [
        "**Statistical Feature Selection (Categorical Vs Categorical) using Chi-Square Test**"
      ]
    },
    {
      "cell_type": "markdown",
      "metadata": {
        "id": "8ex7tMKxrIVp"
      },
      "source": [
        "Chi-Square test is conducted to check the correlation between two categorical variables:\n",
        "- Assumption(H0): The two columns are NOT related to each other.\n",
        "- Result of Chi-Sq Test: The probability of H0 being true."
      ]
    },
    {
      "cell_type": "code",
      "execution_count": 24,
      "metadata": {
        "id": "ey9F6Ebsm40O"
      },
      "outputs": [],
      "source": [
        "# convert rating to a category data type\n",
        "df_a[\"rating\"] = df_a[\"rating\"].astype('category')"
      ]
    },
    {
      "cell_type": "code",
      "execution_count": 25,
      "metadata": {
        "id": "cPzNCESBoZu8"
      },
      "outputs": [],
      "source": [
        "# Writing a function to find the correlation of all categorical variables with the Target variable\n",
        "def FunctionChisq(inpData, TargetVariable, CategoricalVariablesList):\n",
        "    # Creating an empty list of final selected predictors\n",
        "    SelectedPredictors=[]\n",
        "\n",
        "    for predictor in CategoricalVariablesList:\n",
        "        CrossTabResult=pd.crosstab(index=inpData[TargetVariable], columns=inpData[predictor])\n",
        "        ChiSqResult = chi2_contingency(CrossTabResult)\n",
        "\n",
        "        # If the ChiSq P-Value is <0.05, that means we reject H0\n",
        "        if (ChiSqResult[1] < 0.05):\n",
        "            print(predictor, 'is correlated with', TargetVariable, '| P-Value:', ChiSqResult[1])\n",
        "            SelectedPredictors.append(predictor)\n",
        "        else:\n",
        "            print(predictor, 'is NOT correlated with', TargetVariable, '| P-Value:', ChiSqResult[1])\n",
        "\n",
        "    return(SelectedPredictors)"
      ]
    },
    {
      "cell_type": "code",
      "execution_count": 26,
      "metadata": {
        "id": "TciJmBmzpDeR",
        "colab": {
          "base_uri": "https://localhost:8080/"
        },
        "outputId": "efdcb50b-6e92-4231-b9a2-5552d6a998e2"
      },
      "outputs": [
        {
          "output_type": "stream",
          "name": "stdout",
          "text": [
            "division_name is NOT correlated with recommend_index | P-Value: 0.17321721410707838\n",
            "department_name is correlated with recommend_index | P-Value: 0.04608240383650771\n",
            "class_name is NOT correlated with recommend_index | P-Value: 0.2901279734760079\n",
            "rating is correlated with recommend_index | P-Value: 0.0\n"
          ]
        },
        {
          "output_type": "execute_result",
          "data": {
            "text/plain": [
              "['department_name', 'rating']"
            ]
          },
          "metadata": {},
          "execution_count": 26
        }
      ],
      "source": [
        "CategoricalVariables=[\"division_name\", \"department_name\", \"class_name\", \"rating\"]\n",
        "\n",
        "# Calling the function\n",
        "FunctionChisq(inpData=df_a,\n",
        "              TargetVariable=\"recommend_index\",\n",
        "              CategoricalVariablesList= CategoricalVariables)"
      ]
    },
    {
      "cell_type": "markdown",
      "metadata": {
        "id": "EKszbKdJr84o"
      },
      "source": [
        ">*Based on the results of the Chi-Square test, not all the categorical features are correlated with the target class. Hence, only department_name and rating will be used for modelling.*"
      ]
    },
    {
      "cell_type": "markdown",
      "metadata": {
        "id": "smAGTGKSsq9F"
      },
      "source": [
        "**Prepating Textual Data for Modelling**"
      ]
    },
    {
      "cell_type": "markdown",
      "metadata": {
        "id": "NyQEXeK2tAsu"
      },
      "source": [
        "Technically, any text document is just a sequence of characters. To build models on the content, there is a need to transform a text into a sequence of words or, more generally, meaningful sequences of characters called *tokens*. But that alone is not sufficient. Think of the word sequence, *New York*, which shoukd be treated as a single named entity. Correctly identifying such words sequences as compound structures requires sophisticated linguistic processing.\n",
        "\n",
        "Data preparation or data preprocessing in general involves not only transformation of data into a form that can serve as the basis for analysis but also the removal of disturbing noise. When working with text, noise comes in different flavours. The raw data may include HTML tags or special characters that should be removed in most cases. But frequent words carrying little meaning, the so-called *stop words*, introduce noise to machine learning and data analysis because they make it harder to detect patterns.\n",
        "\n",
        "*Tokenization*, which will also be applied in the cleaning process splits a document into a list of separate tokens like words and punctuation characters. *Part-of-speech (POS) tagging* is the process of determining the word class, whether it's a noun, a verb, an article, etc. *Lemmatization* maps inflected words to their uninflected root, the lemma (e.g., \"are\" -> \"be\"). The target of *named-entity recognition* is the identification of references to people, organizations, locations, etc., in the text."
      ]
    },
    {
      "cell_type": "markdown",
      "metadata": {
        "id": "KSV3jVA5-Fbt"
      },
      "source": [
        "**Identifying Noise with Regular Expressions**\n",
        "\n",
        "The following function helps to identify noise in texttual data. Noise in this context means everything that is not plain text and may therefore disturb further analysis. The function uses a regular expression to search for a number of suspicious characters and returns their share of all characters as a score for impurity. Very short texts (less than min_len characters) are ignored because here a special character would lead to a significant impurity and distort the result."
      ]
    },
    {
      "cell_type": "code",
      "execution_count": 27,
      "metadata": {
        "id": "COPzrko9rytb"
      },
      "outputs": [],
      "source": [
        "RE_SUSPICIOUS = re.compile(r'[&#<>{}\\[\\]\\\\]')\n",
        "\n",
        "def impurity(text, min_len = 10):\n",
        "  \"\"\"return the share of suspicious characters in a text\"\"\"\n",
        "  if text == None or len(text) < min_len:\n",
        "    return 0\n",
        "  else:\n",
        "    return len(RE_SUSPICIOUS.findall(text))/len(text)"
      ]
    },
    {
      "cell_type": "code",
      "execution_count": 28,
      "metadata": {
        "id": "Xm94OTWI7XJN"
      },
      "outputs": [],
      "source": [
        "df_a['impurity'] = df_a[\"review_text\"].apply(impurity, min_len = 10)"
      ]
    },
    {
      "cell_type": "code",
      "execution_count": 29,
      "metadata": {
        "id": "GWHif5ii6YqZ",
        "colab": {
          "base_uri": "https://localhost:8080/",
          "height": 206
        },
        "outputId": "ebf7b453-0ecb-4f67-f887-456753cc9182"
      },
      "outputs": [
        {
          "output_type": "execute_result",
          "data": {
            "text/plain": [
              "                                             review_text  impurity\n",
              "23172  Love the look and quality of this jacket. i&am...  0.032967\n",
              "3343   This is the rare metallic that doesn&#39;t itc...  0.027682\n",
              "3297   Love this skirt - it looks precisely as the ph...  0.027523\n",
              "18728       Love this top!! fits perfectly & it's lovely  0.022727\n",
              "10307  Just bought this top in an xs and i can&amp;#3...  0.021583"
            ],
            "text/html": [
              "\n",
              "\n",
              "  <div id=\"df-d5c6496e-c699-48f5-a6cf-498c7190f1ed\">\n",
              "    <div class=\"colab-df-container\">\n",
              "      <div>\n",
              "<style scoped>\n",
              "    .dataframe tbody tr th:only-of-type {\n",
              "        vertical-align: middle;\n",
              "    }\n",
              "\n",
              "    .dataframe tbody tr th {\n",
              "        vertical-align: top;\n",
              "    }\n",
              "\n",
              "    .dataframe thead th {\n",
              "        text-align: right;\n",
              "    }\n",
              "</style>\n",
              "<table border=\"1\" class=\"dataframe\">\n",
              "  <thead>\n",
              "    <tr style=\"text-align: right;\">\n",
              "      <th></th>\n",
              "      <th>review_text</th>\n",
              "      <th>impurity</th>\n",
              "    </tr>\n",
              "  </thead>\n",
              "  <tbody>\n",
              "    <tr>\n",
              "      <th>23172</th>\n",
              "      <td>Love the look and quality of this jacket. i&amp;am...</td>\n",
              "      <td>0.032967</td>\n",
              "    </tr>\n",
              "    <tr>\n",
              "      <th>3343</th>\n",
              "      <td>This is the rare metallic that doesn&amp;#39;t itc...</td>\n",
              "      <td>0.027682</td>\n",
              "    </tr>\n",
              "    <tr>\n",
              "      <th>3297</th>\n",
              "      <td>Love this skirt - it looks precisely as the ph...</td>\n",
              "      <td>0.027523</td>\n",
              "    </tr>\n",
              "    <tr>\n",
              "      <th>18728</th>\n",
              "      <td>Love this top!! fits perfectly &amp; it's lovely</td>\n",
              "      <td>0.022727</td>\n",
              "    </tr>\n",
              "    <tr>\n",
              "      <th>10307</th>\n",
              "      <td>Just bought this top in an xs and i can&amp;amp;#3...</td>\n",
              "      <td>0.021583</td>\n",
              "    </tr>\n",
              "  </tbody>\n",
              "</table>\n",
              "</div>\n",
              "      <button class=\"colab-df-convert\" onclick=\"convertToInteractive('df-d5c6496e-c699-48f5-a6cf-498c7190f1ed')\"\n",
              "              title=\"Convert this dataframe to an interactive table.\"\n",
              "              style=\"display:none;\">\n",
              "\n",
              "  <svg xmlns=\"http://www.w3.org/2000/svg\" height=\"24px\"viewBox=\"0 0 24 24\"\n",
              "       width=\"24px\">\n",
              "    <path d=\"M0 0h24v24H0V0z\" fill=\"none\"/>\n",
              "    <path d=\"M18.56 5.44l.94 2.06.94-2.06 2.06-.94-2.06-.94-.94-2.06-.94 2.06-2.06.94zm-11 1L8.5 8.5l.94-2.06 2.06-.94-2.06-.94L8.5 2.5l-.94 2.06-2.06.94zm10 10l.94 2.06.94-2.06 2.06-.94-2.06-.94-.94-2.06-.94 2.06-2.06.94z\"/><path d=\"M17.41 7.96l-1.37-1.37c-.4-.4-.92-.59-1.43-.59-.52 0-1.04.2-1.43.59L10.3 9.45l-7.72 7.72c-.78.78-.78 2.05 0 2.83L4 21.41c.39.39.9.59 1.41.59.51 0 1.02-.2 1.41-.59l7.78-7.78 2.81-2.81c.8-.78.8-2.07 0-2.86zM5.41 20L4 18.59l7.72-7.72 1.47 1.35L5.41 20z\"/>\n",
              "  </svg>\n",
              "      </button>\n",
              "\n",
              "\n",
              "\n",
              "    <div id=\"df-17f8a49e-2430-4c18-bd10-ceead53fdc72\">\n",
              "      <button class=\"colab-df-quickchart\" onclick=\"quickchart('df-17f8a49e-2430-4c18-bd10-ceead53fdc72')\"\n",
              "              title=\"Suggest charts.\"\n",
              "              style=\"display:none;\">\n",
              "\n",
              "<svg xmlns=\"http://www.w3.org/2000/svg\" height=\"24px\"viewBox=\"0 0 24 24\"\n",
              "     width=\"24px\">\n",
              "    <g>\n",
              "        <path d=\"M19 3H5c-1.1 0-2 .9-2 2v14c0 1.1.9 2 2 2h14c1.1 0 2-.9 2-2V5c0-1.1-.9-2-2-2zM9 17H7v-7h2v7zm4 0h-2V7h2v10zm4 0h-2v-4h2v4z\"/>\n",
              "    </g>\n",
              "</svg>\n",
              "      </button>\n",
              "    </div>\n",
              "\n",
              "<style>\n",
              "  .colab-df-quickchart {\n",
              "    background-color: #E8F0FE;\n",
              "    border: none;\n",
              "    border-radius: 50%;\n",
              "    cursor: pointer;\n",
              "    display: none;\n",
              "    fill: #1967D2;\n",
              "    height: 32px;\n",
              "    padding: 0 0 0 0;\n",
              "    width: 32px;\n",
              "  }\n",
              "\n",
              "  .colab-df-quickchart:hover {\n",
              "    background-color: #E2EBFA;\n",
              "    box-shadow: 0px 1px 2px rgba(60, 64, 67, 0.3), 0px 1px 3px 1px rgba(60, 64, 67, 0.15);\n",
              "    fill: #174EA6;\n",
              "  }\n",
              "\n",
              "  [theme=dark] .colab-df-quickchart {\n",
              "    background-color: #3B4455;\n",
              "    fill: #D2E3FC;\n",
              "  }\n",
              "\n",
              "  [theme=dark] .colab-df-quickchart:hover {\n",
              "    background-color: #434B5C;\n",
              "    box-shadow: 0px 1px 3px 1px rgba(0, 0, 0, 0.15);\n",
              "    filter: drop-shadow(0px 1px 2px rgba(0, 0, 0, 0.3));\n",
              "    fill: #FFFFFF;\n",
              "  }\n",
              "</style>\n",
              "\n",
              "    <script>\n",
              "      async function quickchart(key) {\n",
              "        const containerElement = document.querySelector('#' + key);\n",
              "        const charts = await google.colab.kernel.invokeFunction(\n",
              "            'suggestCharts', [key], {});\n",
              "      }\n",
              "    </script>\n",
              "\n",
              "      <script>\n",
              "\n",
              "function displayQuickchartButton(domScope) {\n",
              "  let quickchartButtonEl =\n",
              "    domScope.querySelector('#df-17f8a49e-2430-4c18-bd10-ceead53fdc72 button.colab-df-quickchart');\n",
              "  quickchartButtonEl.style.display =\n",
              "    google.colab.kernel.accessAllowed ? 'block' : 'none';\n",
              "}\n",
              "\n",
              "        displayQuickchartButton(document);\n",
              "      </script>\n",
              "      <style>\n",
              "    .colab-df-container {\n",
              "      display:flex;\n",
              "      flex-wrap:wrap;\n",
              "      gap: 12px;\n",
              "    }\n",
              "\n",
              "    .colab-df-convert {\n",
              "      background-color: #E8F0FE;\n",
              "      border: none;\n",
              "      border-radius: 50%;\n",
              "      cursor: pointer;\n",
              "      display: none;\n",
              "      fill: #1967D2;\n",
              "      height: 32px;\n",
              "      padding: 0 0 0 0;\n",
              "      width: 32px;\n",
              "    }\n",
              "\n",
              "    .colab-df-convert:hover {\n",
              "      background-color: #E2EBFA;\n",
              "      box-shadow: 0px 1px 2px rgba(60, 64, 67, 0.3), 0px 1px 3px 1px rgba(60, 64, 67, 0.15);\n",
              "      fill: #174EA6;\n",
              "    }\n",
              "\n",
              "    [theme=dark] .colab-df-convert {\n",
              "      background-color: #3B4455;\n",
              "      fill: #D2E3FC;\n",
              "    }\n",
              "\n",
              "    [theme=dark] .colab-df-convert:hover {\n",
              "      background-color: #434B5C;\n",
              "      box-shadow: 0px 1px 3px 1px rgba(0, 0, 0, 0.15);\n",
              "      filter: drop-shadow(0px 1px 2px rgba(0, 0, 0, 0.3));\n",
              "      fill: #FFFFFF;\n",
              "    }\n",
              "  </style>\n",
              "\n",
              "      <script>\n",
              "        const buttonEl =\n",
              "          document.querySelector('#df-d5c6496e-c699-48f5-a6cf-498c7190f1ed button.colab-df-convert');\n",
              "        buttonEl.style.display =\n",
              "          google.colab.kernel.accessAllowed ? 'block' : 'none';\n",
              "\n",
              "        async function convertToInteractive(key) {\n",
              "          const element = document.querySelector('#df-d5c6496e-c699-48f5-a6cf-498c7190f1ed');\n",
              "          const dataTable =\n",
              "            await google.colab.kernel.invokeFunction('convertToInteractive',\n",
              "                                                     [key], {});\n",
              "          if (!dataTable) return;\n",
              "\n",
              "          const docLinkHtml = 'Like what you see? Visit the ' +\n",
              "            '<a target=\"_blank\" href=https://colab.research.google.com/notebooks/data_table.ipynb>data table notebook</a>'\n",
              "            + ' to learn more about interactive tables.';\n",
              "          element.innerHTML = '';\n",
              "          dataTable['output_type'] = 'display_data';\n",
              "          await google.colab.output.renderOutput(dataTable, element);\n",
              "          const docLink = document.createElement('div');\n",
              "          docLink.innerHTML = docLinkHtml;\n",
              "          element.appendChild(docLink);\n",
              "        }\n",
              "      </script>\n",
              "    </div>\n",
              "  </div>\n"
            ]
          },
          "metadata": {},
          "execution_count": 29
        }
      ],
      "source": [
        "# get the top 3 records\n",
        "df_a[[\"review_text\", \"impurity\"]].sort_values(by = \"impurity\", ascending = False).head()"
      ]
    },
    {
      "cell_type": "markdown",
      "metadata": {
        "id": "tsqnzkto_pxK"
      },
      "source": [
        ">*The table above shows the most \"impure\" records. Obviously, there are special characters like !, # and & included. Also, we have punctuation marks like . and ;*"
      ]
    },
    {
      "cell_type": "markdown",
      "metadata": {
        "id": "qajh9m1IA6NL"
      },
      "source": [
        "**Removing Noise with Regular Expressions**\n",
        "\n",
        "The approach employed to data cleaning for the review_text variable consists of defining a set of regular expressions and identifying problematic patterns and corresponding substitution rules. The blueprint function first substitutes all HTML escapes(e.g.,& amp;) by their plain-text representation and then replaces certain patterns by spaces. Finally, sequences of whitespaces are pruned:"
      ]
    },
    {
      "cell_type": "code",
      "execution_count": 30,
      "metadata": {
        "id": "vo5Cq2pCnBkT"
      },
      "outputs": [],
      "source": [
        "# combining the title and review columns to create a single text value and apply the text cleaning blueprint\n",
        "df_a['review_text'] = df_a['title'] + ' ' + df_a['review_text']"
      ]
    },
    {
      "cell_type": "code",
      "source": [
        "def clean(text):\n",
        "    # Combine multiple regex patterns into a single pattern\n",
        "    pattern = r'<[^<>]*>|\\[([^\\[\\]]*)\\]\\([^\\(\\)]*\\]|\\[[^\\[\\]]*\\]|(?:^|\\s)[&#<>{}\\[\\]+|\\\\:-]{1,}(?:\\s|$)|(?:^|\\s)[\\-=\\+]{2,}(?:\\s|$)|[^\\w\\s]|\\s+'\n",
        "\n",
        "    # Perform regex substitution in a single pass\n",
        "    text = re.sub(pattern, ' ', text)\n",
        "\n",
        "    # Remove whitespace and convert to lowercase\n",
        "    text = text.strip().lower()\n",
        "\n",
        "    # Convert html escapes like &amp; to characters\n",
        "    text = html.unescape(text)\n",
        "\n",
        "    return text"
      ],
      "metadata": {
        "id": "cK3_-DdD5qR4"
      },
      "execution_count": 31,
      "outputs": []
    },
    {
      "cell_type": "code",
      "execution_count": 32,
      "metadata": {
        "id": "pDqr8jyKC0s3"
      },
      "outputs": [],
      "source": [
        "df_a['clean_text'] = df_a['review_text'].map(clean)\n",
        "df_a['impurity_clean']   = df_a['clean_text'].apply(impurity, min_len=20)"
      ]
    },
    {
      "cell_type": "code",
      "execution_count": 33,
      "metadata": {
        "id": "4JBBJeO2DRHI",
        "colab": {
          "base_uri": "https://localhost:8080/",
          "height": 363
        },
        "outputId": "58731e01-4153-4a3b-b069-9c03c87e575f"
      },
      "outputs": [
        {
          "output_type": "execute_result",
          "data": {
            "text/plain": [
              "                                              clean_text  impurity_clean\n",
              "2878   no issue with fit lovely dress in bright teal ...             0.0\n",
              "8985   maeve   has failed on this maeve is one of my ...             0.0\n",
              "18867  a staple piece in your closest   like others  ...             0.0\n",
              "1385   elevated basic i bought this tank in gold  and...             0.0\n",
              "9278   very cute dress   for a different body type th...             0.0\n",
              "14417  worth it for me i rarely write reviews on here...             0.0\n",
              "18654  very chic  this dress looks very good on me  i...             0.0\n",
              "10204  perfect tank to be dressed up or down great ta...             0.0\n",
              "11636  a size 2 too big i am usually a size 2 in tops...             0.0\n",
              "5022   keeper  love the muted orange color and the de...             0.0"
            ],
            "text/html": [
              "\n",
              "\n",
              "  <div id=\"df-bff4b14e-6483-43e9-811a-371581c4bfa3\">\n",
              "    <div class=\"colab-df-container\">\n",
              "      <div>\n",
              "<style scoped>\n",
              "    .dataframe tbody tr th:only-of-type {\n",
              "        vertical-align: middle;\n",
              "    }\n",
              "\n",
              "    .dataframe tbody tr th {\n",
              "        vertical-align: top;\n",
              "    }\n",
              "\n",
              "    .dataframe thead th {\n",
              "        text-align: right;\n",
              "    }\n",
              "</style>\n",
              "<table border=\"1\" class=\"dataframe\">\n",
              "  <thead>\n",
              "    <tr style=\"text-align: right;\">\n",
              "      <th></th>\n",
              "      <th>clean_text</th>\n",
              "      <th>impurity_clean</th>\n",
              "    </tr>\n",
              "  </thead>\n",
              "  <tbody>\n",
              "    <tr>\n",
              "      <th>2878</th>\n",
              "      <td>no issue with fit lovely dress in bright teal ...</td>\n",
              "      <td>0.0</td>\n",
              "    </tr>\n",
              "    <tr>\n",
              "      <th>8985</th>\n",
              "      <td>maeve   has failed on this maeve is one of my ...</td>\n",
              "      <td>0.0</td>\n",
              "    </tr>\n",
              "    <tr>\n",
              "      <th>18867</th>\n",
              "      <td>a staple piece in your closest   like others  ...</td>\n",
              "      <td>0.0</td>\n",
              "    </tr>\n",
              "    <tr>\n",
              "      <th>1385</th>\n",
              "      <td>elevated basic i bought this tank in gold  and...</td>\n",
              "      <td>0.0</td>\n",
              "    </tr>\n",
              "    <tr>\n",
              "      <th>9278</th>\n",
              "      <td>very cute dress   for a different body type th...</td>\n",
              "      <td>0.0</td>\n",
              "    </tr>\n",
              "    <tr>\n",
              "      <th>14417</th>\n",
              "      <td>worth it for me i rarely write reviews on here...</td>\n",
              "      <td>0.0</td>\n",
              "    </tr>\n",
              "    <tr>\n",
              "      <th>18654</th>\n",
              "      <td>very chic  this dress looks very good on me  i...</td>\n",
              "      <td>0.0</td>\n",
              "    </tr>\n",
              "    <tr>\n",
              "      <th>10204</th>\n",
              "      <td>perfect tank to be dressed up or down great ta...</td>\n",
              "      <td>0.0</td>\n",
              "    </tr>\n",
              "    <tr>\n",
              "      <th>11636</th>\n",
              "      <td>a size 2 too big i am usually a size 2 in tops...</td>\n",
              "      <td>0.0</td>\n",
              "    </tr>\n",
              "    <tr>\n",
              "      <th>5022</th>\n",
              "      <td>keeper  love the muted orange color and the de...</td>\n",
              "      <td>0.0</td>\n",
              "    </tr>\n",
              "  </tbody>\n",
              "</table>\n",
              "</div>\n",
              "      <button class=\"colab-df-convert\" onclick=\"convertToInteractive('df-bff4b14e-6483-43e9-811a-371581c4bfa3')\"\n",
              "              title=\"Convert this dataframe to an interactive table.\"\n",
              "              style=\"display:none;\">\n",
              "\n",
              "  <svg xmlns=\"http://www.w3.org/2000/svg\" height=\"24px\"viewBox=\"0 0 24 24\"\n",
              "       width=\"24px\">\n",
              "    <path d=\"M0 0h24v24H0V0z\" fill=\"none\"/>\n",
              "    <path d=\"M18.56 5.44l.94 2.06.94-2.06 2.06-.94-2.06-.94-.94-2.06-.94 2.06-2.06.94zm-11 1L8.5 8.5l.94-2.06 2.06-.94-2.06-.94L8.5 2.5l-.94 2.06-2.06.94zm10 10l.94 2.06.94-2.06 2.06-.94-2.06-.94-.94-2.06-.94 2.06-2.06.94z\"/><path d=\"M17.41 7.96l-1.37-1.37c-.4-.4-.92-.59-1.43-.59-.52 0-1.04.2-1.43.59L10.3 9.45l-7.72 7.72c-.78.78-.78 2.05 0 2.83L4 21.41c.39.39.9.59 1.41.59.51 0 1.02-.2 1.41-.59l7.78-7.78 2.81-2.81c.8-.78.8-2.07 0-2.86zM5.41 20L4 18.59l7.72-7.72 1.47 1.35L5.41 20z\"/>\n",
              "  </svg>\n",
              "      </button>\n",
              "\n",
              "\n",
              "\n",
              "    <div id=\"df-17bfd2dd-60c4-44a5-86e5-60771af7ffde\">\n",
              "      <button class=\"colab-df-quickchart\" onclick=\"quickchart('df-17bfd2dd-60c4-44a5-86e5-60771af7ffde')\"\n",
              "              title=\"Suggest charts.\"\n",
              "              style=\"display:none;\">\n",
              "\n",
              "<svg xmlns=\"http://www.w3.org/2000/svg\" height=\"24px\"viewBox=\"0 0 24 24\"\n",
              "     width=\"24px\">\n",
              "    <g>\n",
              "        <path d=\"M19 3H5c-1.1 0-2 .9-2 2v14c0 1.1.9 2 2 2h14c1.1 0 2-.9 2-2V5c0-1.1-.9-2-2-2zM9 17H7v-7h2v7zm4 0h-2V7h2v10zm4 0h-2v-4h2v4z\"/>\n",
              "    </g>\n",
              "</svg>\n",
              "      </button>\n",
              "    </div>\n",
              "\n",
              "<style>\n",
              "  .colab-df-quickchart {\n",
              "    background-color: #E8F0FE;\n",
              "    border: none;\n",
              "    border-radius: 50%;\n",
              "    cursor: pointer;\n",
              "    display: none;\n",
              "    fill: #1967D2;\n",
              "    height: 32px;\n",
              "    padding: 0 0 0 0;\n",
              "    width: 32px;\n",
              "  }\n",
              "\n",
              "  .colab-df-quickchart:hover {\n",
              "    background-color: #E2EBFA;\n",
              "    box-shadow: 0px 1px 2px rgba(60, 64, 67, 0.3), 0px 1px 3px 1px rgba(60, 64, 67, 0.15);\n",
              "    fill: #174EA6;\n",
              "  }\n",
              "\n",
              "  [theme=dark] .colab-df-quickchart {\n",
              "    background-color: #3B4455;\n",
              "    fill: #D2E3FC;\n",
              "  }\n",
              "\n",
              "  [theme=dark] .colab-df-quickchart:hover {\n",
              "    background-color: #434B5C;\n",
              "    box-shadow: 0px 1px 3px 1px rgba(0, 0, 0, 0.15);\n",
              "    filter: drop-shadow(0px 1px 2px rgba(0, 0, 0, 0.3));\n",
              "    fill: #FFFFFF;\n",
              "  }\n",
              "</style>\n",
              "\n",
              "    <script>\n",
              "      async function quickchart(key) {\n",
              "        const containerElement = document.querySelector('#' + key);\n",
              "        const charts = await google.colab.kernel.invokeFunction(\n",
              "            'suggestCharts', [key], {});\n",
              "      }\n",
              "    </script>\n",
              "\n",
              "      <script>\n",
              "\n",
              "function displayQuickchartButton(domScope) {\n",
              "  let quickchartButtonEl =\n",
              "    domScope.querySelector('#df-17bfd2dd-60c4-44a5-86e5-60771af7ffde button.colab-df-quickchart');\n",
              "  quickchartButtonEl.style.display =\n",
              "    google.colab.kernel.accessAllowed ? 'block' : 'none';\n",
              "}\n",
              "\n",
              "        displayQuickchartButton(document);\n",
              "      </script>\n",
              "      <style>\n",
              "    .colab-df-container {\n",
              "      display:flex;\n",
              "      flex-wrap:wrap;\n",
              "      gap: 12px;\n",
              "    }\n",
              "\n",
              "    .colab-df-convert {\n",
              "      background-color: #E8F0FE;\n",
              "      border: none;\n",
              "      border-radius: 50%;\n",
              "      cursor: pointer;\n",
              "      display: none;\n",
              "      fill: #1967D2;\n",
              "      height: 32px;\n",
              "      padding: 0 0 0 0;\n",
              "      width: 32px;\n",
              "    }\n",
              "\n",
              "    .colab-df-convert:hover {\n",
              "      background-color: #E2EBFA;\n",
              "      box-shadow: 0px 1px 2px rgba(60, 64, 67, 0.3), 0px 1px 3px 1px rgba(60, 64, 67, 0.15);\n",
              "      fill: #174EA6;\n",
              "    }\n",
              "\n",
              "    [theme=dark] .colab-df-convert {\n",
              "      background-color: #3B4455;\n",
              "      fill: #D2E3FC;\n",
              "    }\n",
              "\n",
              "    [theme=dark] .colab-df-convert:hover {\n",
              "      background-color: #434B5C;\n",
              "      box-shadow: 0px 1px 3px 1px rgba(0, 0, 0, 0.15);\n",
              "      filter: drop-shadow(0px 1px 2px rgba(0, 0, 0, 0.3));\n",
              "      fill: #FFFFFF;\n",
              "    }\n",
              "  </style>\n",
              "\n",
              "      <script>\n",
              "        const buttonEl =\n",
              "          document.querySelector('#df-bff4b14e-6483-43e9-811a-371581c4bfa3 button.colab-df-convert');\n",
              "        buttonEl.style.display =\n",
              "          google.colab.kernel.accessAllowed ? 'block' : 'none';\n",
              "\n",
              "        async function convertToInteractive(key) {\n",
              "          const element = document.querySelector('#df-bff4b14e-6483-43e9-811a-371581c4bfa3');\n",
              "          const dataTable =\n",
              "            await google.colab.kernel.invokeFunction('convertToInteractive',\n",
              "                                                     [key], {});\n",
              "          if (!dataTable) return;\n",
              "\n",
              "          const docLinkHtml = 'Like what you see? Visit the ' +\n",
              "            '<a target=\"_blank\" href=https://colab.research.google.com/notebooks/data_table.ipynb>data table notebook</a>'\n",
              "            + ' to learn more about interactive tables.';\n",
              "          element.innerHTML = '';\n",
              "          dataTable['output_type'] = 'display_data';\n",
              "          await google.colab.output.renderOutput(dataTable, element);\n",
              "          const docLink = document.createElement('div');\n",
              "          docLink.innerHTML = docLinkHtml;\n",
              "          element.appendChild(docLink);\n",
              "        }\n",
              "      </script>\n",
              "    </div>\n",
              "  </div>\n"
            ]
          },
          "metadata": {},
          "execution_count": 33
        }
      ],
      "source": [
        "df_a[['clean_text', 'impurity_clean']].sort_values(by='impurity_clean', ascending=False) \\\n",
        "                              .sample(10)"
      ]
    },
    {
      "cell_type": "markdown",
      "metadata": {
        "id": "YfoFV4txG0s7"
      },
      "source": [
        ">*This looks prettty good as the impurity value is now zero.*"
      ]
    },
    {
      "cell_type": "markdown",
      "metadata": {
        "id": "pzB2vkYOgje-"
      },
      "source": [
        "The function below is used to standardize fancy hypens and quotes and it removes accents with the help of textacy"
      ]
    },
    {
      "cell_type": "code",
      "execution_count": 34,
      "metadata": {
        "id": "BiZ9IwOYNgdR"
      },
      "outputs": [],
      "source": [
        "def normalize(text):\n",
        "        text = tprep.normalize.hyphenated_words(text)\n",
        "        text = tprep.normalize.quotation_marks(text)\n",
        "        text = tprep.normalize.unicode(text)\n",
        "        text = tprep.remove.accents(text)\n",
        "        return text"
      ]
    },
    {
      "cell_type": "code",
      "execution_count": 35,
      "metadata": {
        "id": "SXfub-vnQxYD"
      },
      "outputs": [],
      "source": [
        "df_a['clean_text_new'] = df_a['clean_text'].map(normalize)"
      ]
    },
    {
      "cell_type": "code",
      "execution_count": 36,
      "metadata": {
        "id": "q721sHlWQ_E4",
        "colab": {
          "base_uri": "https://localhost:8080/"
        },
        "outputId": "02ac3700-f942-4fda-c623-25762fa52463"
      },
      "outputs": [
        {
          "output_type": "execute_result",
          "data": {
            "text/plain": [
              "19035    love how it looks but doesn t hold up i love t...\n",
              "11458    not for wide rib cage this dress is the perfec...\n",
              "7815     beautiful dress this is a beautiful dress  fit...\n",
              "2441     colors look nothing like online photos   when ...\n",
              "21070    nice color  love the snap buttons this skirt i...\n",
              "8576     flattering i love this dress i have it in the ...\n",
              "16125    can t wear a bra and it is see through this is...\n",
              "19894    super cute light weight beach cover up i bough...\n",
              "13258    massive  i get that it s a swing tank  and it ...\n",
              "20670    strange fit i put a lot of hopes on this pullo...\n",
              "Name: clean_text_new, dtype: object"
            ]
          },
          "metadata": {},
          "execution_count": 36
        }
      ],
      "source": [
        "df_a['clean_text_new'].sample(10)"
      ]
    },
    {
      "cell_type": "markdown",
      "metadata": {
        "id": "YsfdtNsGnk9Y"
      },
      "source": [
        ">*We can see from the preceding summary of the text feature that the cleaning process has removed a lot of special characters; the statements that form the customer review are retained. This is useful information that the model can use to understand the recommendation and will have impact on its categorization.*"
      ]
    },
    {
      "cell_type": "markdown",
      "metadata": {
        "id": "8oHfbNe-iyFB"
      },
      "source": [
        "**Dropping all irrelevant columns**"
      ]
    },
    {
      "cell_type": "code",
      "execution_count": 37,
      "metadata": {
        "id": "1Saj9ar5jAr2"
      },
      "outputs": [],
      "source": [
        "df_a = df_a.drop(columns = {\"s.no\", \"clothing_id\", \"title\", \"review_text\", \"impurity\", \"clean_text\", \"impurity_clean\", \"division_name\", \"class_name\"})\n",
        "\n",
        "df_a = df_a.rename(columns = {\"clean_text_new\": \"review_text\"})"
      ]
    },
    {
      "cell_type": "markdown",
      "metadata": {
        "id": "sDu870VhvKyg"
      },
      "source": [
        "**One-hot encoding categorical features**"
      ]
    },
    {
      "cell_type": "code",
      "execution_count": 38,
      "metadata": {
        "id": "yHaVbPmOySL4"
      },
      "outputs": [],
      "source": [
        "cat_cols = ['department_name',  'rating'] # a list of categorical predictor features\n",
        "\n",
        "df_a = pd.get_dummies(df_a, drop_first = True, columns = cat_cols)\n",
        "\n",
        "df_a.columns = df_a.columns.str.lower()"
      ]
    },
    {
      "cell_type": "markdown",
      "metadata": {
        "id": "MW-Dlv8VpS1F"
      },
      "source": [
        "**Separating the data into dependent and independent features for SVM modelling**"
      ]
    },
    {
      "cell_type": "code",
      "execution_count": 39,
      "metadata": {
        "id": "MlCldzQHpTUC"
      },
      "outputs": [],
      "source": [
        "X = df_a[\"review_text\"] # Independent variable\n",
        "y = df_a[\"recommend_index\"] # Dependent(target) Variable"
      ]
    },
    {
      "cell_type": "markdown",
      "metadata": {
        "id": "rze1xQP4hcdC"
      },
      "source": [
        "**Train-Test Split**"
      ]
    },
    {
      "cell_type": "markdown",
      "metadata": {
        "id": "INAPj0_1hg92"
      },
      "source": [
        ">*The data is splitted so that the next step of vectorization is performed using only the training dataset. An 80-20 split of the data is created with a confirmation that the zero and one of the target class show a similar distribution across the two splits by specifying the target variable, recommend_index, as the stratify argument:*"
      ]
    },
    {
      "cell_type": "code",
      "execution_count": 40,
      "metadata": {
        "id": "F9xfjJdwo2Dd",
        "colab": {
          "base_uri": "https://localhost:8080/"
        },
        "outputId": "3f8ab30b-8a93-4382-dfea-42d4ad2b0cdb"
      },
      "outputs": [
        {
          "output_type": "stream",
          "name": "stdout",
          "text": [
            "size of training data  4612\n",
            "size of test data  1153\n"
          ]
        }
      ],
      "source": [
        "x_train, x_test, y_train, y_test = train_test_split(X, y, test_size = 0.2, random_state = 42, stratify = y)\n",
        "\n",
        "print('size of training data ', x_train.shape[0])\n",
        "print('size of test data ', x_test.shape[0])"
      ]
    },
    {
      "cell_type": "markdown",
      "metadata": {
        "id": "acdHsh9WqdNc"
      },
      "source": [
        "**Training the Machine Learning Model**"
      ]
    },
    {
      "cell_type": "markdown",
      "metadata": {
        "id": "PmBWH4PDq0Qx"
      },
      "source": [
        "The next step in creating the text classification blueprint is to train a supervised machine learning using two suitable algorithm: Support Vector Machine (SVM) and Random Forest (RF). For the first set of models SVM and RF will be trained only on the text feature while for the second set of models SVM and RF will be trained using the rating and department_name features. The performance of each of these models will then be compared considering the features used for modelling.\n",
        "\n",
        "\n",
        "***How SVM works***\n",
        "\n",
        "SVM is one of the popular algorithms used when working with text classification. Consider a set of points in the X-Y plane with each point belonging to one of two classes: cross or circle. The SVM works by choosing a line that separates the two classes. Of course, there could be several such lines (shown by the dotted options in the figure below), and the algorithm chooses the line that provides the maximum separation between the closest cross and circle points (identified with a box aroud them). These closest cross and circle points are referred to as *support vectors*. In the illustration below, we are able to identify a hyperplane that clearly separates the cross and circle points, but in reality, it might be difficult to achieve this. For example, there may be a few circle points that lie on the extreme left, and it would be impossible to then generate a hyperplane. The algorithm manages this with tolerance parameter tool that allows for some flexibility and accepts an error in the form of misclassified points when deciding a hyperplane.\n"
      ]
    },
    {
      "cell_type": "markdown",
      "metadata": {
        "id": "fwOg-aK_sUG9"
      },
      "source": [
        "![image.png](data:image/png;base64,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)"
      ]
    },
    {
      "cell_type": "markdown",
      "source": [
        "***How Random Forest (RF) Works***\n",
        "\n",
        "Random Forest grows multiple decision trees which are merged together for a more accurate prediction.\n",
        "\n",
        "The logic behind the Random Forest model is that multiple uncorrelated models (the individual decision trees) perform much better as a group than they do alone. When using Random Forest for classification, each tree gives a classification or a “vote.” The forest chooses the classification with the majority of the “votes.” When using Random Forest for regression, the forest picks the average of the outputs of all trees.\n",
        "\n",
        "The key here lies in the fact that there is low (or no) correlation between the individual models—that is, between the decision trees that make up the larger Random Forest model. While individual decision trees may produce errors, the majority of the group will be correct, thus moving the overall outcome in the right direction.\n",
        "\n",
        "For the RF model, we use all other features asides review text as RF algorithm."
      ],
      "metadata": {
        "id": "CGINcth9BbX1"
      }
    },
    {
      "cell_type": "markdown",
      "metadata": {
        "id": "37Re2Mf7EdOE"
      },
      "source": [
        "Before proceeding to run the SVM and RF models using the text feature, we must prepare our text data in a suitable format that can be used by the algorithm. This means that we must find a way to represent the text data in a numeric format. The simplest way is to count the number of times each word occurs in the review text and combine the counts of all words to create a numeric representation for each observation. This technique has the disadvantage that commonly occuring words will have large values and could be understood as important features when this is not true. Therefore, we use the preferred option of representing the text using a Term-Frequency Inverse Document Frequency (TF-IDF) vectorization."
      ]
    },
    {
      "cell_type": "code",
      "execution_count": 41,
      "metadata": {
        "id": "oFlfbBvegXb4"
      },
      "outputs": [],
      "source": [
        "tfidf = TfidfVectorizer(ngram_range = (1, 2), stop_words = \"english\")\n",
        "x_train_tf = tfidf.fit_transform(x_train)"
      ]
    },
    {
      "cell_type": "markdown",
      "metadata": {
        "id": "QE9wyL6tHvny"
      },
      "source": [
        "The TF-IDF vectorization performed in the previous step results in a sparse matrix. The SVM algorithm is preferred when working with text data because it is more suited to work with sparse data compared to other algorithms like Random Forest. They are also better suited to work with input features that are purely numeric, while other algorithms are capable of handling a mixture of numeric and categorical input features. For the text classificatin model, we will use the sklearn.svm.LinearSVC module that is provided by scikit-learn library. SVMs can actually be initialized with different kernel functions, and the linear kernel is recommended for use with text data as there are a large number of features that can be considered linearly separable. It is also faster to fit since it has fewer parameters to optimize."
      ]
    },
    {
      "cell_type": "markdown",
      "metadata": {
        "id": "fswDTjqeLGBD"
      },
      "source": [
        "In the following code, we initialize the model with a certain random_state and specify a tolerance value of 0.00001. The arguments are specific to the type of model we use, and we will show later in this study how we can arrive at the optimal parameter for these arguments. For now we start by specifying some default values and then call the fit method, making sure to use the vectorized independent variables that was created in the previous step:"
      ]
    },
    {
      "cell_type": "markdown",
      "source": [
        "**Modelling with SVM using review_text only**"
      ],
      "metadata": {
        "id": "ujo-6jfEJBwO"
      }
    },
    {
      "cell_type": "code",
      "execution_count": 42,
      "metadata": {
        "id": "CTsRTxV11hSm",
        "colab": {
          "base_uri": "https://localhost:8080/",
          "height": 74
        },
        "outputId": "771d0502-8eb9-443b-d406-63e0d51a9e5a"
      },
      "outputs": [
        {
          "output_type": "execute_result",
          "data": {
            "text/plain": [
              "LinearSVC(random_state=42, tol=1e-05)"
            ],
            "text/html": [
              "<style>#sk-container-id-1 {color: black;background-color: white;}#sk-container-id-1 pre{padding: 0;}#sk-container-id-1 div.sk-toggleable {background-color: white;}#sk-container-id-1 label.sk-toggleable__label {cursor: pointer;display: block;width: 100%;margin-bottom: 0;padding: 0.3em;box-sizing: border-box;text-align: center;}#sk-container-id-1 label.sk-toggleable__label-arrow:before {content: \"▸\";float: left;margin-right: 0.25em;color: #696969;}#sk-container-id-1 label.sk-toggleable__label-arrow:hover:before {color: black;}#sk-container-id-1 div.sk-estimator:hover label.sk-toggleable__label-arrow:before {color: black;}#sk-container-id-1 div.sk-toggleable__content {max-height: 0;max-width: 0;overflow: hidden;text-align: left;background-color: #f0f8ff;}#sk-container-id-1 div.sk-toggleable__content pre {margin: 0.2em;color: black;border-radius: 0.25em;background-color: #f0f8ff;}#sk-container-id-1 input.sk-toggleable__control:checked~div.sk-toggleable__content {max-height: 200px;max-width: 100%;overflow: auto;}#sk-container-id-1 input.sk-toggleable__control:checked~label.sk-toggleable__label-arrow:before {content: \"▾\";}#sk-container-id-1 div.sk-estimator input.sk-toggleable__control:checked~label.sk-toggleable__label {background-color: #d4ebff;}#sk-container-id-1 div.sk-label input.sk-toggleable__control:checked~label.sk-toggleable__label {background-color: #d4ebff;}#sk-container-id-1 input.sk-hidden--visually {border: 0;clip: rect(1px 1px 1px 1px);clip: rect(1px, 1px, 1px, 1px);height: 1px;margin: -1px;overflow: hidden;padding: 0;position: absolute;width: 1px;}#sk-container-id-1 div.sk-estimator {font-family: monospace;background-color: #f0f8ff;border: 1px dotted black;border-radius: 0.25em;box-sizing: border-box;margin-bottom: 0.5em;}#sk-container-id-1 div.sk-estimator:hover {background-color: #d4ebff;}#sk-container-id-1 div.sk-parallel-item::after {content: \"\";width: 100%;border-bottom: 1px solid gray;flex-grow: 1;}#sk-container-id-1 div.sk-label:hover label.sk-toggleable__label {background-color: #d4ebff;}#sk-container-id-1 div.sk-serial::before {content: \"\";position: absolute;border-left: 1px solid gray;box-sizing: border-box;top: 0;bottom: 0;left: 50%;z-index: 0;}#sk-container-id-1 div.sk-serial {display: flex;flex-direction: column;align-items: center;background-color: white;padding-right: 0.2em;padding-left: 0.2em;position: relative;}#sk-container-id-1 div.sk-item {position: relative;z-index: 1;}#sk-container-id-1 div.sk-parallel {display: flex;align-items: stretch;justify-content: center;background-color: white;position: relative;}#sk-container-id-1 div.sk-item::before, #sk-container-id-1 div.sk-parallel-item::before {content: \"\";position: absolute;border-left: 1px solid gray;box-sizing: border-box;top: 0;bottom: 0;left: 50%;z-index: -1;}#sk-container-id-1 div.sk-parallel-item {display: flex;flex-direction: column;z-index: 1;position: relative;background-color: white;}#sk-container-id-1 div.sk-parallel-item:first-child::after {align-self: flex-end;width: 50%;}#sk-container-id-1 div.sk-parallel-item:last-child::after {align-self: flex-start;width: 50%;}#sk-container-id-1 div.sk-parallel-item:only-child::after {width: 0;}#sk-container-id-1 div.sk-dashed-wrapped {border: 1px dashed gray;margin: 0 0.4em 0.5em 0.4em;box-sizing: border-box;padding-bottom: 0.4em;background-color: white;}#sk-container-id-1 div.sk-label label {font-family: monospace;font-weight: bold;display: inline-block;line-height: 1.2em;}#sk-container-id-1 div.sk-label-container {text-align: center;}#sk-container-id-1 div.sk-container {/* jupyter's `normalize.less` sets `[hidden] { display: none; }` but bootstrap.min.css set `[hidden] { display: none !important; }` so we also need the `!important` here to be able to override the default hidden behavior on the sphinx rendered scikit-learn.org. See: https://github.com/scikit-learn/scikit-learn/issues/21755 */display: inline-block !important;position: relative;}#sk-container-id-1 div.sk-text-repr-fallback {display: none;}</style><div id=\"sk-container-id-1\" class=\"sk-top-container\"><div class=\"sk-text-repr-fallback\"><pre>LinearSVC(random_state=42, tol=1e-05)</pre><b>In a Jupyter environment, please rerun this cell to show the HTML representation or trust the notebook. <br />On GitHub, the HTML representation is unable to render, please try loading this page with nbviewer.org.</b></div><div class=\"sk-container\" hidden><div class=\"sk-item\"><div class=\"sk-estimator sk-toggleable\"><input class=\"sk-toggleable__control sk-hidden--visually\" id=\"sk-estimator-id-1\" type=\"checkbox\" checked><label for=\"sk-estimator-id-1\" class=\"sk-toggleable__label sk-toggleable__label-arrow\">LinearSVC</label><div class=\"sk-toggleable__content\"><pre>LinearSVC(random_state=42, tol=1e-05)</pre></div></div></div></div></div>"
            ]
          },
          "metadata": {},
          "execution_count": 42
        }
      ],
      "source": [
        "model1sv = LinearSVC(random_state = 42, tol = 1e-5)\n",
        "model1sv.fit(x_train_tf, y_train)"
      ]
    },
    {
      "cell_type": "markdown",
      "metadata": {
        "id": "OOngdYzvL_Ro"
      },
      "source": [
        ">*On executing the preceding code, we fit a model using the training data, and the result shows the various parameters of the model that was generated. Most of these are the default values since we specified only the random_state and tolerance.*"
      ]
    },
    {
      "cell_type": "markdown",
      "metadata": {
        "id": "GQsNiLyRMarS"
      },
      "source": [
        "**Model evaluation on the training set (SVM)**"
      ]
    },
    {
      "cell_type": "code",
      "execution_count": 43,
      "metadata": {
        "id": "iSmQPpuP_wO7",
        "colab": {
          "base_uri": "https://localhost:8080/"
        },
        "outputId": "ff4f4989-80a9-4e58-f898-aacd16ed8f06"
      },
      "outputs": [
        {
          "output_type": "stream",
          "name": "stdout",
          "text": [
            "Accuracy Score -  1.0\n"
          ]
        }
      ],
      "source": [
        "y_pred_train_sv1 = model1sv.predict(x_train_tf)\n",
        "print(\"Accuracy Score - \", accuracy_score(y_train, y_pred_train_sv1))"
      ]
    },
    {
      "cell_type": "code",
      "execution_count": 44,
      "metadata": {
        "id": "QzT9EWQgB4aB",
        "colab": {
          "base_uri": "https://localhost:8080/"
        },
        "outputId": "af3687fc-d56b-4743-8ae1-a8d907c4aa68"
      },
      "outputs": [
        {
          "output_type": "stream",
          "name": "stdout",
          "text": [
            "Confusion Matrix (Accuracy 1.0000)\n",
            "\n",
            "       Prediction\n",
            "Actual    0    1\n",
            "     0  918    0\n",
            "     1    0 3694\n"
          ]
        }
      ],
      "source": [
        "classificationSummary(y_train, y_pred_train_sv1)"
      ]
    },
    {
      "cell_type": "markdown",
      "metadata": {
        "id": "ahKqZ_w4M9u0"
      },
      "source": [
        "**Model evaluation on the test set (SVM)**"
      ]
    },
    {
      "cell_type": "code",
      "execution_count": 45,
      "metadata": {
        "id": "xt0YwKreCh1z",
        "colab": {
          "base_uri": "https://localhost:8080/"
        },
        "outputId": "ebbc0e48-edf1-4739-db37-847175ef14e9"
      },
      "outputs": [
        {
          "output_type": "stream",
          "name": "stdout",
          "text": [
            "Accuracy Score -  0.8889852558542931\n"
          ]
        }
      ],
      "source": [
        "x_test_tf = tfidf.transform(x_test)\n",
        "\n",
        "y_pred_test_sv1 = model1sv.predict(x_test_tf)\n",
        "print(\"Accuracy Score - \", accuracy_score(y_test, y_pred_test_sv1))"
      ]
    },
    {
      "cell_type": "code",
      "execution_count": 46,
      "metadata": {
        "id": "Jje9V8AjNCXd",
        "colab": {
          "base_uri": "https://localhost:8080/"
        },
        "outputId": "d91f8019-475a-4086-e05f-aaee8bc75490"
      },
      "outputs": [
        {
          "output_type": "stream",
          "name": "stdout",
          "text": [
            "Confusion Matrix (Accuracy 0.8890)\n",
            "\n",
            "       Prediction\n",
            "Actual   0   1\n",
            "     0 133  97\n",
            "     1  31 892\n"
          ]
        }
      ],
      "source": [
        "classificationSummary(y_test, y_pred_test_sv1)"
      ]
    },
    {
      "cell_type": "markdown",
      "source": [
        "**Modelling with RF using review_text only**"
      ],
      "metadata": {
        "id": "mIEfPhk9I0Kc"
      }
    },
    {
      "cell_type": "code",
      "source": [
        "model1rf = RandomForestClassifier(random_state = 42)\n",
        "model1rf.fit(x_train_tf, y_train)"
      ],
      "metadata": {
        "colab": {
          "base_uri": "https://localhost:8080/",
          "height": 74
        },
        "id": "yCKM2T2hI460",
        "outputId": "679d4ebb-5bc2-4720-f416-853a19da796b"
      },
      "execution_count": 47,
      "outputs": [
        {
          "output_type": "execute_result",
          "data": {
            "text/plain": [
              "RandomForestClassifier(random_state=42)"
            ],
            "text/html": [
              "<style>#sk-container-id-2 {color: black;background-color: white;}#sk-container-id-2 pre{padding: 0;}#sk-container-id-2 div.sk-toggleable {background-color: white;}#sk-container-id-2 label.sk-toggleable__label {cursor: pointer;display: block;width: 100%;margin-bottom: 0;padding: 0.3em;box-sizing: border-box;text-align: center;}#sk-container-id-2 label.sk-toggleable__label-arrow:before {content: \"▸\";float: left;margin-right: 0.25em;color: #696969;}#sk-container-id-2 label.sk-toggleable__label-arrow:hover:before {color: black;}#sk-container-id-2 div.sk-estimator:hover label.sk-toggleable__label-arrow:before {color: black;}#sk-container-id-2 div.sk-toggleable__content {max-height: 0;max-width: 0;overflow: hidden;text-align: left;background-color: #f0f8ff;}#sk-container-id-2 div.sk-toggleable__content pre {margin: 0.2em;color: black;border-radius: 0.25em;background-color: #f0f8ff;}#sk-container-id-2 input.sk-toggleable__control:checked~div.sk-toggleable__content {max-height: 200px;max-width: 100%;overflow: auto;}#sk-container-id-2 input.sk-toggleable__control:checked~label.sk-toggleable__label-arrow:before {content: \"▾\";}#sk-container-id-2 div.sk-estimator input.sk-toggleable__control:checked~label.sk-toggleable__label {background-color: #d4ebff;}#sk-container-id-2 div.sk-label input.sk-toggleable__control:checked~label.sk-toggleable__label {background-color: #d4ebff;}#sk-container-id-2 input.sk-hidden--visually {border: 0;clip: rect(1px 1px 1px 1px);clip: rect(1px, 1px, 1px, 1px);height: 1px;margin: -1px;overflow: hidden;padding: 0;position: absolute;width: 1px;}#sk-container-id-2 div.sk-estimator {font-family: monospace;background-color: #f0f8ff;border: 1px dotted black;border-radius: 0.25em;box-sizing: border-box;margin-bottom: 0.5em;}#sk-container-id-2 div.sk-estimator:hover {background-color: #d4ebff;}#sk-container-id-2 div.sk-parallel-item::after {content: \"\";width: 100%;border-bottom: 1px solid gray;flex-grow: 1;}#sk-container-id-2 div.sk-label:hover label.sk-toggleable__label {background-color: #d4ebff;}#sk-container-id-2 div.sk-serial::before {content: \"\";position: absolute;border-left: 1px solid gray;box-sizing: border-box;top: 0;bottom: 0;left: 50%;z-index: 0;}#sk-container-id-2 div.sk-serial {display: flex;flex-direction: column;align-items: center;background-color: white;padding-right: 0.2em;padding-left: 0.2em;position: relative;}#sk-container-id-2 div.sk-item {position: relative;z-index: 1;}#sk-container-id-2 div.sk-parallel {display: flex;align-items: stretch;justify-content: center;background-color: white;position: relative;}#sk-container-id-2 div.sk-item::before, #sk-container-id-2 div.sk-parallel-item::before {content: \"\";position: absolute;border-left: 1px solid gray;box-sizing: border-box;top: 0;bottom: 0;left: 50%;z-index: -1;}#sk-container-id-2 div.sk-parallel-item {display: flex;flex-direction: column;z-index: 1;position: relative;background-color: white;}#sk-container-id-2 div.sk-parallel-item:first-child::after {align-self: flex-end;width: 50%;}#sk-container-id-2 div.sk-parallel-item:last-child::after {align-self: flex-start;width: 50%;}#sk-container-id-2 div.sk-parallel-item:only-child::after {width: 0;}#sk-container-id-2 div.sk-dashed-wrapped {border: 1px dashed gray;margin: 0 0.4em 0.5em 0.4em;box-sizing: border-box;padding-bottom: 0.4em;background-color: white;}#sk-container-id-2 div.sk-label label {font-family: monospace;font-weight: bold;display: inline-block;line-height: 1.2em;}#sk-container-id-2 div.sk-label-container {text-align: center;}#sk-container-id-2 div.sk-container {/* jupyter's `normalize.less` sets `[hidden] { display: none; }` but bootstrap.min.css set `[hidden] { display: none !important; }` so we also need the `!important` here to be able to override the default hidden behavior on the sphinx rendered scikit-learn.org. See: https://github.com/scikit-learn/scikit-learn/issues/21755 */display: inline-block !important;position: relative;}#sk-container-id-2 div.sk-text-repr-fallback {display: none;}</style><div id=\"sk-container-id-2\" class=\"sk-top-container\"><div class=\"sk-text-repr-fallback\"><pre>RandomForestClassifier(random_state=42)</pre><b>In a Jupyter environment, please rerun this cell to show the HTML representation or trust the notebook. <br />On GitHub, the HTML representation is unable to render, please try loading this page with nbviewer.org.</b></div><div class=\"sk-container\" hidden><div class=\"sk-item\"><div class=\"sk-estimator sk-toggleable\"><input class=\"sk-toggleable__control sk-hidden--visually\" id=\"sk-estimator-id-2\" type=\"checkbox\" checked><label for=\"sk-estimator-id-2\" class=\"sk-toggleable__label sk-toggleable__label-arrow\">RandomForestClassifier</label><div class=\"sk-toggleable__content\"><pre>RandomForestClassifier(random_state=42)</pre></div></div></div></div></div>"
            ]
          },
          "metadata": {},
          "execution_count": 47
        }
      ]
    },
    {
      "cell_type": "markdown",
      "source": [
        "**Model evaluation on the training set (RF)**"
      ],
      "metadata": {
        "id": "f6dx6CxcKhuw"
      }
    },
    {
      "cell_type": "code",
      "source": [
        "y_pred_train_rf1 = model1rf.predict(x_train_tf)\n",
        "print(\"Accuracy Score - \", accuracy_score(y_train, y_pred_train_rf1))"
      ],
      "metadata": {
        "colab": {
          "base_uri": "https://localhost:8080/"
        },
        "id": "hEnjQ19aKbYy",
        "outputId": "52a49c2e-5e25-43fb-cd44-52c039f898c9"
      },
      "execution_count": 48,
      "outputs": [
        {
          "output_type": "stream",
          "name": "stdout",
          "text": [
            "Accuracy Score -  1.0\n"
          ]
        }
      ]
    },
    {
      "cell_type": "code",
      "source": [
        "classificationSummary(y_train, y_pred_train_rf1)"
      ],
      "metadata": {
        "colab": {
          "base_uri": "https://localhost:8080/"
        },
        "id": "ZUUn8GHpKbbR",
        "outputId": "fba80c9a-f8ba-4b50-b75f-5fc5c1c70c07"
      },
      "execution_count": 49,
      "outputs": [
        {
          "output_type": "stream",
          "name": "stdout",
          "text": [
            "Confusion Matrix (Accuracy 1.0000)\n",
            "\n",
            "       Prediction\n",
            "Actual    0    1\n",
            "     0  918    0\n",
            "     1    0 3694\n"
          ]
        }
      ]
    },
    {
      "cell_type": "markdown",
      "source": [
        "**Model evaluation on the test set (RF)**"
      ],
      "metadata": {
        "id": "fpkVBtSjKyUB"
      }
    },
    {
      "cell_type": "code",
      "source": [
        "x_test_tf = tfidf.transform(x_test)\n",
        "\n",
        "y_pred_test_rf1 = model1rf.predict(x_test_tf)\n",
        "print(\"Accuracy Score - \", accuracy_score(y_test, y_pred_test_rf1))"
      ],
      "metadata": {
        "colab": {
          "base_uri": "https://localhost:8080/"
        },
        "id": "qadtXwLlKbdu",
        "outputId": "1e3ed02a-40f4-4fdf-99ba-3c21d2600616"
      },
      "execution_count": 50,
      "outputs": [
        {
          "output_type": "stream",
          "name": "stdout",
          "text": [
            "Accuracy Score -  0.8421509106678231\n"
          ]
        }
      ]
    },
    {
      "cell_type": "code",
      "source": [
        "classificationSummary(y_test, y_pred_test_rf1)"
      ],
      "metadata": {
        "colab": {
          "base_uri": "https://localhost:8080/"
        },
        "id": "9QtvSdb-LAGV",
        "outputId": "6f03bcfe-142f-4a49-d087-ecb001b0020d"
      },
      "execution_count": 51,
      "outputs": [
        {
          "output_type": "stream",
          "name": "stdout",
          "text": [
            "Confusion Matrix (Accuracy 0.8422)\n",
            "\n",
            "       Prediction\n",
            "Actual   0   1\n",
            "     0  58 172\n",
            "     1  10 913\n"
          ]
        }
      ]
    },
    {
      "cell_type": "markdown",
      "metadata": {
        "id": "UtKlY9bHXqtc"
      },
      "source": [
        ">*In terms of accuracy, we can conclude that the SVM model has a better peformance on the test set than the RF when review_text only is used for modelling. This result further validates the fact that SVM typically performs better than Random Forest on text data due to its ability to effectively handle high-dimensional feature spaces and capture complex relationships between text features.*\n",
        "\n",
        ">*The simplest way to validate the text classification model is accuracy: the\n",
        "ratio of the number of predictions that the model got right to the total number of observations. This can be expressed mathematically as follows:*<br>\n",
        "\n",
        ">*Accuracy = Number of correction predictions/Total number of predictions made.*\n",
        "\n",
        ">*To measure the accuracy of the model, we use the trained model to generate predictions and compare with the real values. To generate the predictions, we must apply the same vectorization to the test split of the independent variable and then call the predict method of the trained model. The accuracy_score method is used automatically to generate the accuracy metric by comparing the true values and the model predictions of the test split.*\n",
        "\n",
        ">*As seen above, a high accuracy score of 100% has been achieved on the training set of both models and 88.90% on the test set for SVM and 84.22% for RF, which indicates that the model is able to predict the recommendations accurately.*\n",
        "\n",
        ">*Another aspect that we must dig deeper to investigate is how well the model is performing for the different recommendations. Is it better at predicting recommendation (1) or no recommendation (0). To analyse this, another evaluation tool known as the confusion matrix is used. The confusion matrix is a grid that compares the predicted values with the actual values for all the classified observations. The most common representation of a confusion matrix is for a binary classification (just like we have for this study) with only two labels.*\n",
        "\n",
        "\n"
      ]
    },
    {
      "cell_type": "markdown",
      "source": [
        "**Separating the data into dependent and independent features, splitting the data into train and test features**"
      ],
      "metadata": {
        "id": "ZR0ltHo1G6PV"
      }
    },
    {
      "cell_type": "code",
      "source": [
        "X_r = df_a.drop(columns = {'review_text', 'recommend_index'}) # Independent variable\n",
        "y_r = df_a[\"recommend_index\"]  # Dependent(target) Variable"
      ],
      "metadata": {
        "id": "mAvkHtg8BPEX"
      },
      "execution_count": 52,
      "outputs": []
    },
    {
      "cell_type": "code",
      "source": [
        "x_train_r, x_test_r, y_train_r, y_test_r = train_test_split(X_r, y_r, test_size = 0.2, random_state = 42, stratify = y)\n",
        "\n",
        "print('size of training data ', x_train_r.shape[0])\n",
        "print('size of test data ', x_test_r.shape[0])"
      ],
      "metadata": {
        "id": "BQ4JyMPsHdUb",
        "colab": {
          "base_uri": "https://localhost:8080/"
        },
        "outputId": "5d67f42d-65bd-4bdb-824b-9b40faf6b904"
      },
      "execution_count": 53,
      "outputs": [
        {
          "output_type": "stream",
          "name": "stdout",
          "text": [
            "size of training data  4612\n",
            "size of test data  1153\n"
          ]
        }
      ]
    },
    {
      "cell_type": "markdown",
      "source": [
        "**Modelling with Random Forest using age, alike_feedback_count, rating and departname name only**"
      ],
      "metadata": {
        "id": "KgXn6CvfAy9X"
      }
    },
    {
      "cell_type": "code",
      "source": [
        "# fitting the Random Forest Classifier model\n",
        "model2rf = RandomForestClassifier(random_state = 42)\n",
        "model2rf.fit(x_train_r, y_train_r)"
      ],
      "metadata": {
        "id": "AbnZywm-I_E1",
        "colab": {
          "base_uri": "https://localhost:8080/",
          "height": 74
        },
        "outputId": "046acbf2-515d-4a10-94ea-8e251002c21f"
      },
      "execution_count": 54,
      "outputs": [
        {
          "output_type": "execute_result",
          "data": {
            "text/plain": [
              "RandomForestClassifier(random_state=42)"
            ],
            "text/html": [
              "<style>#sk-container-id-3 {color: black;background-color: white;}#sk-container-id-3 pre{padding: 0;}#sk-container-id-3 div.sk-toggleable {background-color: white;}#sk-container-id-3 label.sk-toggleable__label {cursor: pointer;display: block;width: 100%;margin-bottom: 0;padding: 0.3em;box-sizing: border-box;text-align: center;}#sk-container-id-3 label.sk-toggleable__label-arrow:before {content: \"▸\";float: left;margin-right: 0.25em;color: #696969;}#sk-container-id-3 label.sk-toggleable__label-arrow:hover:before {color: black;}#sk-container-id-3 div.sk-estimator:hover label.sk-toggleable__label-arrow:before {color: black;}#sk-container-id-3 div.sk-toggleable__content {max-height: 0;max-width: 0;overflow: hidden;text-align: left;background-color: #f0f8ff;}#sk-container-id-3 div.sk-toggleable__content pre {margin: 0.2em;color: black;border-radius: 0.25em;background-color: #f0f8ff;}#sk-container-id-3 input.sk-toggleable__control:checked~div.sk-toggleable__content {max-height: 200px;max-width: 100%;overflow: auto;}#sk-container-id-3 input.sk-toggleable__control:checked~label.sk-toggleable__label-arrow:before {content: \"▾\";}#sk-container-id-3 div.sk-estimator input.sk-toggleable__control:checked~label.sk-toggleable__label {background-color: #d4ebff;}#sk-container-id-3 div.sk-label input.sk-toggleable__control:checked~label.sk-toggleable__label {background-color: #d4ebff;}#sk-container-id-3 input.sk-hidden--visually {border: 0;clip: rect(1px 1px 1px 1px);clip: rect(1px, 1px, 1px, 1px);height: 1px;margin: -1px;overflow: hidden;padding: 0;position: absolute;width: 1px;}#sk-container-id-3 div.sk-estimator {font-family: monospace;background-color: #f0f8ff;border: 1px dotted black;border-radius: 0.25em;box-sizing: border-box;margin-bottom: 0.5em;}#sk-container-id-3 div.sk-estimator:hover {background-color: #d4ebff;}#sk-container-id-3 div.sk-parallel-item::after {content: \"\";width: 100%;border-bottom: 1px solid gray;flex-grow: 1;}#sk-container-id-3 div.sk-label:hover label.sk-toggleable__label {background-color: #d4ebff;}#sk-container-id-3 div.sk-serial::before {content: \"\";position: absolute;border-left: 1px solid gray;box-sizing: border-box;top: 0;bottom: 0;left: 50%;z-index: 0;}#sk-container-id-3 div.sk-serial {display: flex;flex-direction: column;align-items: center;background-color: white;padding-right: 0.2em;padding-left: 0.2em;position: relative;}#sk-container-id-3 div.sk-item {position: relative;z-index: 1;}#sk-container-id-3 div.sk-parallel {display: flex;align-items: stretch;justify-content: center;background-color: white;position: relative;}#sk-container-id-3 div.sk-item::before, #sk-container-id-3 div.sk-parallel-item::before {content: \"\";position: absolute;border-left: 1px solid gray;box-sizing: border-box;top: 0;bottom: 0;left: 50%;z-index: -1;}#sk-container-id-3 div.sk-parallel-item {display: flex;flex-direction: column;z-index: 1;position: relative;background-color: white;}#sk-container-id-3 div.sk-parallel-item:first-child::after {align-self: flex-end;width: 50%;}#sk-container-id-3 div.sk-parallel-item:last-child::after {align-self: flex-start;width: 50%;}#sk-container-id-3 div.sk-parallel-item:only-child::after {width: 0;}#sk-container-id-3 div.sk-dashed-wrapped {border: 1px dashed gray;margin: 0 0.4em 0.5em 0.4em;box-sizing: border-box;padding-bottom: 0.4em;background-color: white;}#sk-container-id-3 div.sk-label label {font-family: monospace;font-weight: bold;display: inline-block;line-height: 1.2em;}#sk-container-id-3 div.sk-label-container {text-align: center;}#sk-container-id-3 div.sk-container {/* jupyter's `normalize.less` sets `[hidden] { display: none; }` but bootstrap.min.css set `[hidden] { display: none !important; }` so we also need the `!important` here to be able to override the default hidden behavior on the sphinx rendered scikit-learn.org. See: https://github.com/scikit-learn/scikit-learn/issues/21755 */display: inline-block !important;position: relative;}#sk-container-id-3 div.sk-text-repr-fallback {display: none;}</style><div id=\"sk-container-id-3\" class=\"sk-top-container\"><div class=\"sk-text-repr-fallback\"><pre>RandomForestClassifier(random_state=42)</pre><b>In a Jupyter environment, please rerun this cell to show the HTML representation or trust the notebook. <br />On GitHub, the HTML representation is unable to render, please try loading this page with nbviewer.org.</b></div><div class=\"sk-container\" hidden><div class=\"sk-item\"><div class=\"sk-estimator sk-toggleable\"><input class=\"sk-toggleable__control sk-hidden--visually\" id=\"sk-estimator-id-3\" type=\"checkbox\" checked><label for=\"sk-estimator-id-3\" class=\"sk-toggleable__label sk-toggleable__label-arrow\">RandomForestClassifier</label><div class=\"sk-toggleable__content\"><pre>RandomForestClassifier(random_state=42)</pre></div></div></div></div></div>"
            ]
          },
          "metadata": {},
          "execution_count": 54
        }
      ]
    },
    {
      "cell_type": "markdown",
      "source": [
        "**Model evaluation on the training set (RF Model)**"
      ],
      "metadata": {
        "id": "R8J7DzY1J3Td"
      }
    },
    {
      "cell_type": "code",
      "source": [
        "y_pred_train_rf2 = model2rf.predict(x_train_r)\n",
        "print(\"Accuracy Score - \", accuracy_score(y_train_r, y_pred_train_rf2))"
      ],
      "metadata": {
        "id": "L6G_IJzFImyS",
        "colab": {
          "base_uri": "https://localhost:8080/"
        },
        "outputId": "97701a89-b3bf-4531-acb8-ed6b6c3e84d3"
      },
      "execution_count": 55,
      "outputs": [
        {
          "output_type": "stream",
          "name": "stdout",
          "text": [
            "Accuracy Score -  0.9603209019947961\n"
          ]
        }
      ]
    },
    {
      "cell_type": "markdown",
      "source": [
        ">*The RF model has an accuracy of 96.03% on the training set.*"
      ],
      "metadata": {
        "id": "mrlVlf6oG7RW"
      }
    },
    {
      "cell_type": "code",
      "source": [
        "classificationSummary(y_train_r, y_pred_train_rf2)"
      ],
      "metadata": {
        "id": "q_wxJN_yHUVf",
        "colab": {
          "base_uri": "https://localhost:8080/"
        },
        "outputId": "70469c7e-e2f0-4825-9716-002157112915"
      },
      "execution_count": 56,
      "outputs": [
        {
          "output_type": "stream",
          "name": "stdout",
          "text": [
            "Confusion Matrix (Accuracy 0.9603)\n",
            "\n",
            "       Prediction\n",
            "Actual    0    1\n",
            "     0  824   94\n",
            "     1   89 3605\n"
          ]
        }
      ]
    },
    {
      "cell_type": "markdown",
      "source": [
        "**Model evaluation on the test set (RF Model)**"
      ],
      "metadata": {
        "id": "bc5vSXivHH9q"
      }
    },
    {
      "cell_type": "code",
      "source": [
        "y_pred_test_rf2 = model2rf.predict(x_test_r)\n",
        "print(\"Accuracy Score - \", accuracy_score(y_test_r, y_pred_test_rf2))"
      ],
      "metadata": {
        "id": "KKuOah2WKKRS",
        "colab": {
          "base_uri": "https://localhost:8080/"
        },
        "outputId": "0d47d9f6-4f0b-44c9-8719-fc07212b700c"
      },
      "execution_count": 57,
      "outputs": [
        {
          "output_type": "stream",
          "name": "stdout",
          "text": [
            "Accuracy Score -  0.9080659150043365\n"
          ]
        }
      ]
    },
    {
      "cell_type": "markdown",
      "source": [
        ">*The RF model has an accuracy score of 90.81% on the test set.*"
      ],
      "metadata": {
        "id": "E8NJrtblI6dw"
      }
    },
    {
      "cell_type": "code",
      "source": [
        "classificationSummary(y_test_r, y_pred_test_rf2)"
      ],
      "metadata": {
        "id": "VTEBw7aIIGQC",
        "colab": {
          "base_uri": "https://localhost:8080/"
        },
        "outputId": "b9f6038c-036f-47fc-d680-94584ffc3489"
      },
      "execution_count": 58,
      "outputs": [
        {
          "output_type": "stream",
          "name": "stdout",
          "text": [
            "Confusion Matrix (Accuracy 0.9081)\n",
            "\n",
            "       Prediction\n",
            "Actual   0   1\n",
            "     0 178  52\n",
            "     1  54 869\n"
          ]
        }
      ]
    },
    {
      "cell_type": "markdown",
      "source": [
        "*Using categorical and numerical variables alone, the RF model also has a strong capability of making predictions of the recommendation index with an accuracy of 90.81% on the test set.*"
      ],
      "metadata": {
        "id": "KXlQJL8gJxIz"
      }
    },
    {
      "cell_type": "markdown",
      "source": [
        "**Modelling with SVM using age, alike_feedback_count, rating and departname name only**"
      ],
      "metadata": {
        "id": "vB0KSRS7QM8F"
      }
    },
    {
      "cell_type": "code",
      "source": [
        "# fitting the support vector model\n",
        "model2sv = LinearSVC(random_state = 42, tol = 1e-5)\n",
        "model2sv.fit(x_train_r, y_train_r)"
      ],
      "metadata": {
        "colab": {
          "base_uri": "https://localhost:8080/",
          "height": 74
        },
        "id": "Bj2Hd64lPy_C",
        "outputId": "7c100100-3fef-4145-efd7-4a48384a4268"
      },
      "execution_count": 59,
      "outputs": [
        {
          "output_type": "execute_result",
          "data": {
            "text/plain": [
              "LinearSVC(random_state=42, tol=1e-05)"
            ],
            "text/html": [
              "<style>#sk-container-id-4 {color: black;background-color: white;}#sk-container-id-4 pre{padding: 0;}#sk-container-id-4 div.sk-toggleable {background-color: white;}#sk-container-id-4 label.sk-toggleable__label {cursor: pointer;display: block;width: 100%;margin-bottom: 0;padding: 0.3em;box-sizing: border-box;text-align: center;}#sk-container-id-4 label.sk-toggleable__label-arrow:before {content: \"▸\";float: left;margin-right: 0.25em;color: #696969;}#sk-container-id-4 label.sk-toggleable__label-arrow:hover:before {color: black;}#sk-container-id-4 div.sk-estimator:hover label.sk-toggleable__label-arrow:before {color: black;}#sk-container-id-4 div.sk-toggleable__content {max-height: 0;max-width: 0;overflow: hidden;text-align: left;background-color: #f0f8ff;}#sk-container-id-4 div.sk-toggleable__content pre {margin: 0.2em;color: black;border-radius: 0.25em;background-color: #f0f8ff;}#sk-container-id-4 input.sk-toggleable__control:checked~div.sk-toggleable__content {max-height: 200px;max-width: 100%;overflow: auto;}#sk-container-id-4 input.sk-toggleable__control:checked~label.sk-toggleable__label-arrow:before {content: \"▾\";}#sk-container-id-4 div.sk-estimator input.sk-toggleable__control:checked~label.sk-toggleable__label {background-color: #d4ebff;}#sk-container-id-4 div.sk-label input.sk-toggleable__control:checked~label.sk-toggleable__label {background-color: #d4ebff;}#sk-container-id-4 input.sk-hidden--visually {border: 0;clip: rect(1px 1px 1px 1px);clip: rect(1px, 1px, 1px, 1px);height: 1px;margin: -1px;overflow: hidden;padding: 0;position: absolute;width: 1px;}#sk-container-id-4 div.sk-estimator {font-family: monospace;background-color: #f0f8ff;border: 1px dotted black;border-radius: 0.25em;box-sizing: border-box;margin-bottom: 0.5em;}#sk-container-id-4 div.sk-estimator:hover {background-color: #d4ebff;}#sk-container-id-4 div.sk-parallel-item::after {content: \"\";width: 100%;border-bottom: 1px solid gray;flex-grow: 1;}#sk-container-id-4 div.sk-label:hover label.sk-toggleable__label {background-color: #d4ebff;}#sk-container-id-4 div.sk-serial::before {content: \"\";position: absolute;border-left: 1px solid gray;box-sizing: border-box;top: 0;bottom: 0;left: 50%;z-index: 0;}#sk-container-id-4 div.sk-serial {display: flex;flex-direction: column;align-items: center;background-color: white;padding-right: 0.2em;padding-left: 0.2em;position: relative;}#sk-container-id-4 div.sk-item {position: relative;z-index: 1;}#sk-container-id-4 div.sk-parallel {display: flex;align-items: stretch;justify-content: center;background-color: white;position: relative;}#sk-container-id-4 div.sk-item::before, #sk-container-id-4 div.sk-parallel-item::before {content: \"\";position: absolute;border-left: 1px solid gray;box-sizing: border-box;top: 0;bottom: 0;left: 50%;z-index: -1;}#sk-container-id-4 div.sk-parallel-item {display: flex;flex-direction: column;z-index: 1;position: relative;background-color: white;}#sk-container-id-4 div.sk-parallel-item:first-child::after {align-self: flex-end;width: 50%;}#sk-container-id-4 div.sk-parallel-item:last-child::after {align-self: flex-start;width: 50%;}#sk-container-id-4 div.sk-parallel-item:only-child::after {width: 0;}#sk-container-id-4 div.sk-dashed-wrapped {border: 1px dashed gray;margin: 0 0.4em 0.5em 0.4em;box-sizing: border-box;padding-bottom: 0.4em;background-color: white;}#sk-container-id-4 div.sk-label label {font-family: monospace;font-weight: bold;display: inline-block;line-height: 1.2em;}#sk-container-id-4 div.sk-label-container {text-align: center;}#sk-container-id-4 div.sk-container {/* jupyter's `normalize.less` sets `[hidden] { display: none; }` but bootstrap.min.css set `[hidden] { display: none !important; }` so we also need the `!important` here to be able to override the default hidden behavior on the sphinx rendered scikit-learn.org. See: https://github.com/scikit-learn/scikit-learn/issues/21755 */display: inline-block !important;position: relative;}#sk-container-id-4 div.sk-text-repr-fallback {display: none;}</style><div id=\"sk-container-id-4\" class=\"sk-top-container\"><div class=\"sk-text-repr-fallback\"><pre>LinearSVC(random_state=42, tol=1e-05)</pre><b>In a Jupyter environment, please rerun this cell to show the HTML representation or trust the notebook. <br />On GitHub, the HTML representation is unable to render, please try loading this page with nbviewer.org.</b></div><div class=\"sk-container\" hidden><div class=\"sk-item\"><div class=\"sk-estimator sk-toggleable\"><input class=\"sk-toggleable__control sk-hidden--visually\" id=\"sk-estimator-id-4\" type=\"checkbox\" checked><label for=\"sk-estimator-id-4\" class=\"sk-toggleable__label sk-toggleable__label-arrow\">LinearSVC</label><div class=\"sk-toggleable__content\"><pre>LinearSVC(random_state=42, tol=1e-05)</pre></div></div></div></div></div>"
            ]
          },
          "metadata": {},
          "execution_count": 59
        }
      ]
    },
    {
      "cell_type": "code",
      "source": [
        "y_pred_train_sv2 = model2sv.predict(x_train_r)\n",
        "print(\"Accuracy Score - \", accuracy_score(y_train_r, y_pred_train_sv2))"
      ],
      "metadata": {
        "colab": {
          "base_uri": "https://localhost:8080/"
        },
        "id": "kUx5fZMVQyk-",
        "outputId": "39593b08-eb7c-4f50-b0dd-c2a4207a159a"
      },
      "execution_count": 60,
      "outputs": [
        {
          "output_type": "stream",
          "name": "stdout",
          "text": [
            "Accuracy Score -  0.9327840416305291\n"
          ]
        }
      ]
    },
    {
      "cell_type": "markdown",
      "source": [
        ">*The SVM model has an accuracy of 93.27% on the training set.*"
      ],
      "metadata": {
        "id": "whZOUiiPRDa3"
      }
    },
    {
      "cell_type": "code",
      "source": [
        "classificationSummary(y_train_r, y_pred_train_sv2)"
      ],
      "metadata": {
        "colab": {
          "base_uri": "https://localhost:8080/"
        },
        "id": "oV-ZQ7o7RH8J",
        "outputId": "9f1f4944-4ef6-410d-b2b1-15f29f8e9cc1"
      },
      "execution_count": 61,
      "outputs": [
        {
          "output_type": "stream",
          "name": "stdout",
          "text": [
            "Confusion Matrix (Accuracy 0.9328)\n",
            "\n",
            "       Prediction\n",
            "Actual    0    1\n",
            "     0  876   42\n",
            "     1  268 3426\n"
          ]
        }
      ]
    },
    {
      "cell_type": "markdown",
      "source": [
        "**Model evaluation on the test set (SVM Model)**"
      ],
      "metadata": {
        "id": "DcyQjacORQXP"
      }
    },
    {
      "cell_type": "code",
      "source": [
        "y_pred_test_sv2 = model2sv.predict(x_test_r)\n",
        "print(\"Accuracy Score - \", accuracy_score(y_test_r, y_pred_test_sv2))"
      ],
      "metadata": {
        "colab": {
          "base_uri": "https://localhost:8080/"
        },
        "id": "KhFaP4vwRSxs",
        "outputId": "bbe930cc-b3b5-4376-a7df-e16d52b5bd88"
      },
      "execution_count": 62,
      "outputs": [
        {
          "output_type": "stream",
          "name": "stdout",
          "text": [
            "Accuracy Score -  0.9262792714657415\n"
          ]
        }
      ]
    },
    {
      "cell_type": "code",
      "source": [
        "classificationSummary(y_test_r, y_pred_test_sv2)"
      ],
      "metadata": {
        "colab": {
          "base_uri": "https://localhost:8080/"
        },
        "id": "c1kyTMDJRTCV",
        "outputId": "1f04f207-a017-45b1-f9c3-70fa05262c99"
      },
      "execution_count": 63,
      "outputs": [
        {
          "output_type": "stream",
          "name": "stdout",
          "text": [
            "Confusion Matrix (Accuracy 0.9263)\n",
            "\n",
            "       Prediction\n",
            "Actual   0   1\n",
            "     0 220  10\n",
            "     1  75 848\n"
          ]
        }
      ]
    },
    {
      "cell_type": "markdown",
      "source": [
        ">*In terms of accuracy, we can conclude that the SVM model also has a better peformance on the test set than the RF when age, alike_feedback_count, rating and department name are used for modelling.*"
      ],
      "metadata": {
        "id": "lk6SLLI_a9ri"
      }
    },
    {
      "cell_type": "markdown",
      "metadata": {
        "id": "eNLOvRxneQR1"
      },
      "source": [
        ">*The figure below is a sample representation of the confusion matrix that predicts only where a product is recommended or not.*"
      ]
    },
    {
      "cell_type": "markdown",
      "metadata": {
        "id": "RjKBBNbjd0Qb"
      },
      "source": [
        "![image7_11zon_aca1dd9e4a.webp](data:image/webp;base64,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)"
      ]
    },
    {
      "cell_type": "markdown",
      "metadata": {
        "id": "FAOGm8-XefaE"
      },
      "source": [
        ">*The rows depict the predictions, and the columns depict the actual values. Each slot in the matrix is the count of observations falling in that slot:*\n",
        "\n",
        ">*True Positive: The count of those observation that were predicted to be positive and are indeed positive.*\n",
        "\n",
        ">*True Negative: The count of those observations that were predicted to be negative and are indeed negative.*\n",
        "\n",
        ">*False Positive: The count of those observations that were predicted to be positive but are actually negative.*\n",
        "\n",
        ">*False Negative: The count of those observations that were predicted to be negative but are actually positive*\n",
        "\n",
        ">*For the training performance of the SVM model using review_text only, the TN is 918, FP is 0, TP is 3,694 and FN is 0. For the test performance, the TN is 133, FP is 97, TP is 892 and FN is 31. For the training performance of the RF model using review_text only, the TN is 918, FP is 0, TP is 3,694 and FN is 0. For the test performance, the TN is 58, FP is 172, TP is 913 and FN is 10.*\n",
        "\n",
        ">*For the training performance of the RF model using age, alike_feedback_count, department_name and rating, the TN is 824, FP is 94, TP is 3605 and FN is 89. For the test performance, the TN is 178, FP is 52, TP is 869 and FN is 54. For the training performance of the SVM model using age, alike_feedback_count, department_name and rating, the TN is 876, FP is 42, TP is 3426 and FN is 268. For the test performance, the TN is 220, FP is 10, TP is 848 and FN is 75.*\n",
        "\n"
      ]
    },
    {
      "cell_type": "markdown",
      "metadata": {
        "id": "A3Ja2eymjXWp"
      },
      "source": [
        "**Precision and Recall**\n",
        "\n",
        "The real value of using the confusion matrix is in other measures like precision and recall, which gives more insight into how the model performs for different classes.\n",
        "\n",
        "Precision = True Positive/(True Positive + False Positive)\n",
        "\n",
        "The precision metric tells us what proportion of predicted positives is actually positive, or how accurate the model is at predicting the positive class. If we want to be sure of our positive predictions, then this a metric that has to be maximized. For example, if we are classifying emails as spam (positive), then we must be accurate at this; otherwise, a good email might accidentally be sent to the spam folder.\n",
        "\n",
        "Another metric that is derived from the confusion matrix is Recall:\n",
        "\n",
        "Recall = True Positive/(True Positive + False Negative)\n",
        "\n",
        "This metric tells us what proportion of real positive value is actually defined by the model. A high recall means that the model is able to capture most of the positive classifications in reality. This is especially important when the cost of not identifying a positive case is very high, for example, if a patient has cancer but a model does not identify it.\n",
        "\n",
        "From the previous discussion, we can conclude that both precision and recall are important metrics depending on the application of the model. The f1 score is a metric that creates a harmonic mean of both of these measures and can also be used as a proxy to evaluate the overall accuracy of the model:\n",
        "\n",
        "F1 Score = 2 * (Precision * Recall)/ (Precision + Recall)\n",
        "\n",
        "An easier way to determine these measures directly is to use the classification_report function from scikit-learn that automatically calculates these values:\n"
      ]
    },
    {
      "cell_type": "markdown",
      "source": [
        "**Classification report for models using review_text**"
      ],
      "metadata": {
        "id": "t8GyMNzcmh2Y"
      }
    },
    {
      "cell_type": "code",
      "execution_count": 64,
      "metadata": {
        "id": "Q6RHzcX1uWS8",
        "colab": {
          "base_uri": "https://localhost:8080/"
        },
        "outputId": "92d57e1f-4334-47b2-f889-8ae5af40646c"
      },
      "outputs": [
        {
          "output_type": "stream",
          "name": "stdout",
          "text": [
            "              precision    recall  f1-score   support\n",
            "\n",
            "           0       1.00      1.00      1.00       918\n",
            "           1       1.00      1.00      1.00      3694\n",
            "\n",
            "    accuracy                           1.00      4612\n",
            "   macro avg       1.00      1.00      1.00      4612\n",
            "weighted avg       1.00      1.00      1.00      4612\n",
            "\n"
          ]
        }
      ],
      "source": [
        "# classification report for the training set (SVM model - review_text)\n",
        "print(classification_report(y_train, y_pred_train_sv1))"
      ]
    },
    {
      "cell_type": "code",
      "execution_count": 65,
      "metadata": {
        "id": "6HDl7baTa5Wi",
        "colab": {
          "base_uri": "https://localhost:8080/"
        },
        "outputId": "73eadf51-1436-488c-ad0e-3ae06785817c"
      },
      "outputs": [
        {
          "output_type": "stream",
          "name": "stdout",
          "text": [
            "              precision    recall  f1-score   support\n",
            "\n",
            "           0       0.81      0.58      0.68       230\n",
            "           1       0.90      0.97      0.93       923\n",
            "\n",
            "    accuracy                           0.89      1153\n",
            "   macro avg       0.86      0.77      0.80      1153\n",
            "weighted avg       0.88      0.89      0.88      1153\n",
            "\n"
          ]
        }
      ],
      "source": [
        "# classification report for the test set (SVM Model - review_text)\n",
        "print(classification_report(y_test, y_pred_test_sv1))"
      ]
    },
    {
      "cell_type": "code",
      "source": [
        "# classification report for the training set (RF model - review_text)\n",
        "print(classification_report(y_train, y_pred_train_rf1))"
      ],
      "metadata": {
        "colab": {
          "base_uri": "https://localhost:8080/"
        },
        "id": "AKSUd0jNmRUC",
        "outputId": "4266e6ec-11f5-4317-845f-aa41665aff5f"
      },
      "execution_count": 66,
      "outputs": [
        {
          "output_type": "stream",
          "name": "stdout",
          "text": [
            "              precision    recall  f1-score   support\n",
            "\n",
            "           0       1.00      1.00      1.00       918\n",
            "           1       1.00      1.00      1.00      3694\n",
            "\n",
            "    accuracy                           1.00      4612\n",
            "   macro avg       1.00      1.00      1.00      4612\n",
            "weighted avg       1.00      1.00      1.00      4612\n",
            "\n"
          ]
        }
      ]
    },
    {
      "cell_type": "code",
      "source": [
        "# classification report for the test set (RF model - review_text)\n",
        "print(classification_report(y_test, y_pred_test_rf1))"
      ],
      "metadata": {
        "colab": {
          "base_uri": "https://localhost:8080/"
        },
        "id": "XRG9UgF8mSKu",
        "outputId": "ebc03ad0-6b8d-4340-f982-0e3d942ff545"
      },
      "execution_count": 67,
      "outputs": [
        {
          "output_type": "stream",
          "name": "stdout",
          "text": [
            "              precision    recall  f1-score   support\n",
            "\n",
            "           0       0.85      0.25      0.39       230\n",
            "           1       0.84      0.99      0.91       923\n",
            "\n",
            "    accuracy                           0.84      1153\n",
            "   macro avg       0.85      0.62      0.65      1153\n",
            "weighted avg       0.84      0.84      0.81      1153\n",
            "\n"
          ]
        }
      ]
    },
    {
      "cell_type": "markdown",
      "source": [
        "**Classification report for models using age, alike_feedback_count, rating and department_name**"
      ],
      "metadata": {
        "id": "svRBIVp5mt7i"
      }
    },
    {
      "cell_type": "code",
      "source": [
        "# classification report for the training set (RF model - age, alike_feedback_count, rating and department_name)\n",
        "print(classification_report(y_train_r, y_pred_train_rf2))"
      ],
      "metadata": {
        "id": "ayLGH9FPSiQ1",
        "colab": {
          "base_uri": "https://localhost:8080/"
        },
        "outputId": "96c9761f-98f3-4553-f18d-75720156d19c"
      },
      "execution_count": 68,
      "outputs": [
        {
          "output_type": "stream",
          "name": "stdout",
          "text": [
            "              precision    recall  f1-score   support\n",
            "\n",
            "           0       0.90      0.90      0.90       918\n",
            "           1       0.97      0.98      0.98      3694\n",
            "\n",
            "    accuracy                           0.96      4612\n",
            "   macro avg       0.94      0.94      0.94      4612\n",
            "weighted avg       0.96      0.96      0.96      4612\n",
            "\n"
          ]
        }
      ]
    },
    {
      "cell_type": "code",
      "source": [
        "# classification report for the test set (RF Model - age, alike_feedback_count, rating and department_name)\n",
        "print(classification_report(y_test_r, y_pred_test_rf2))"
      ],
      "metadata": {
        "id": "yZzUfpE4Sj3a",
        "colab": {
          "base_uri": "https://localhost:8080/"
        },
        "outputId": "e9370d2c-0d5d-4789-e48b-0d92881d7516"
      },
      "execution_count": 69,
      "outputs": [
        {
          "output_type": "stream",
          "name": "stdout",
          "text": [
            "              precision    recall  f1-score   support\n",
            "\n",
            "           0       0.77      0.77      0.77       230\n",
            "           1       0.94      0.94      0.94       923\n",
            "\n",
            "    accuracy                           0.91      1153\n",
            "   macro avg       0.86      0.86      0.86      1153\n",
            "weighted avg       0.91      0.91      0.91      1153\n",
            "\n"
          ]
        }
      ]
    },
    {
      "cell_type": "code",
      "source": [
        "# classification report for the training set (SVM model - age, alike_feedback_count, rating and department_name)\n",
        "print(classification_report(y_train_r, y_pred_train_sv2))"
      ],
      "metadata": {
        "colab": {
          "base_uri": "https://localhost:8080/"
        },
        "id": "vXV8GilYm7dM",
        "outputId": "cda03a29-c8ec-4ee2-9b23-9b804186c74f"
      },
      "execution_count": 70,
      "outputs": [
        {
          "output_type": "stream",
          "name": "stdout",
          "text": [
            "              precision    recall  f1-score   support\n",
            "\n",
            "           0       0.77      0.95      0.85       918\n",
            "           1       0.99      0.93      0.96      3694\n",
            "\n",
            "    accuracy                           0.93      4612\n",
            "   macro avg       0.88      0.94      0.90      4612\n",
            "weighted avg       0.94      0.93      0.94      4612\n",
            "\n"
          ]
        }
      ]
    },
    {
      "cell_type": "code",
      "source": [
        "# classification report for the test set (SVM model - age, alike_feedback_count, rating and department_name)\n",
        "print(classification_report(y_test_r, y_pred_test_sv2))"
      ],
      "metadata": {
        "colab": {
          "base_uri": "https://localhost:8080/"
        },
        "id": "EKBTPSl5m8BK",
        "outputId": "4ee7909a-70f0-4e40-8022-9e0c2d03bc47"
      },
      "execution_count": 71,
      "outputs": [
        {
          "output_type": "stream",
          "name": "stdout",
          "text": [
            "              precision    recall  f1-score   support\n",
            "\n",
            "           0       0.75      0.96      0.84       230\n",
            "           1       0.99      0.92      0.95       923\n",
            "\n",
            "    accuracy                           0.93      1153\n",
            "   macro avg       0.87      0.94      0.90      1153\n",
            "weighted avg       0.94      0.93      0.93      1153\n",
            "\n"
          ]
        }
      ]
    },
    {
      "cell_type": "markdown",
      "metadata": {
        "id": "9mRKKb6dwZRK"
      },
      "source": [
        ">*On the training set of the first set of models, one issue becomes obvious, the model overfits as both the recall and precision values are high. On the test set, the recall and precision values are not as high as what is obtained on the training set of the models that used review_text. The performance of the SVM model in this instance is more reliable considering the classification report which gives 0.68 f1 score for \"no recommendation\" and 0.93 f1 score for \"yes recommendation\" as against the RF model which give an f1 score of 0.39 for \"no recommendation\" and 0.91 for \"yes recommendation\". This shows the SVM model is more capable of giving a stable and reliable result on data it hasn't seen before when modelling with review_text predictor variable alone.*\n",
        "\n",
        ">*On the training set of the second set of models, there is less overfitting on the training set of the RF and SVM models. The performance on the test sets are way better than what was obtained in the models built with only the review_text explanatory variable. The RF model gives 0.77 and 0.94 f1 scores for \"no recommendation\" and \"yes recommendation\" respectively while the SVM gives 0.84 and 0.95 f1 scores for \"no recommendation\" and \"yes recommendation\" respectivley.*\n",
        "\n",
        ">*Overall, the best model to use is the SVM model that utilizes the age, alike_feedback_countt, department_name and rating explanatory variables. This model gives an accuracy score of 92.63% as against the initial one with 88.90% accuracy.*\n",
        "\n",
        "It is important that during model evaluation we must analyse several metrics and not rely on the accuracy alone. The reason for a model to overfit is usually due to the class imbalance in the target (recommendation) class which makes up 80.76% of the recommend label and 19.24% of the do not recommend label. This means that when the model is trained, it able to learn the characteristics of the recommmend (Yes - 1) class alone. This problem will be addressed by using a downsampling method."
      ]
    },
    {
      "cell_type": "code",
      "source": [
        "df_a[\"recommend_index\"].value_counts()"
      ],
      "metadata": {
        "id": "izWJoUDKGcn8",
        "colab": {
          "base_uri": "https://localhost:8080/"
        },
        "outputId": "ee28b5de-9568-41c0-b3b5-0a42a54bbd8c"
      },
      "execution_count": 72,
      "outputs": [
        {
          "output_type": "execute_result",
          "data": {
            "text/plain": [
              "1    4617\n",
              "0    1148\n",
              "Name: recommend_index, dtype: int64"
            ]
          },
          "metadata": {},
          "execution_count": 72
        }
      ]
    },
    {
      "cell_type": "markdown",
      "source": [
        "**Class Imbalance**\n",
        "\n",
        "There are several techniques that can be used to overcome the issue of class imbalance. They belong to two categories of upsampling and downsampling techniques. Upsampling techniques refer to methods used to artificially increase the number of observations of the minority class (No(0) in this case). These techniques can vary from simply adding multiple copies to generating new observations using a method like SMOTE. Downsampling techniques refer to methods that are used to reduce the number of observations of the majority class (Yes (1)) in this study. The Yes class will be randomly downsampled to have a similar number of observations as the other class:"
      ],
      "metadata": {
        "id": "qYGX2N5RFnbu"
      }
    },
    {
      "cell_type": "code",
      "source": [
        "# filter recommendations with Yes and sample 1300 rows from it.\n",
        "df_sample1 = df_a[df_a[\"recommend_index\"] == 1].sample(n=1300)\n",
        "\n",
        "# create a separate dataframe containing the No recommendation\n",
        "df_sample0 = df_a[df_a[\"recommend_index\"] != 1]\n",
        "\n",
        "# concatenate the two dataframe to create the new balanced recommendations dataset\n",
        "df_balanced = pd.concat([df_sample1, df_sample0])\n",
        "\n",
        "#check the status of the class imbalance\n",
        "df_balanced[\"recommend_index\"].value_counts()"
      ],
      "metadata": {
        "id": "gNaZ6xNZE88X",
        "colab": {
          "base_uri": "https://localhost:8080/"
        },
        "outputId": "89b94056-cc59-4721-9bdf-00620418c7b1"
      },
      "execution_count": 73,
      "outputs": [
        {
          "output_type": "execute_result",
          "data": {
            "text/plain": [
              "1    1300\n",
              "0    1148\n",
              "Name: recommend_index, dtype: int64"
            ]
          },
          "metadata": {},
          "execution_count": 73
        }
      ]
    },
    {
      "cell_type": "markdown",
      "source": [
        ">*Please note that in performing the downsampling, we are losing information, and this is not generally a good idea. However, when we come across a class imbalance problem, this prevents our model from learning the right information. We try to overcome this by using upsampling and downsampling techniques, but this will always involve a compromise with regard to data quality.*"
      ],
      "metadata": {
        "id": "Q-Sbiy_0CRtw"
      }
    },
    {
      "cell_type": "markdown",
      "source": [
        "**Remodelling with the Balanced DataFrame (SVM2)**"
      ],
      "metadata": {
        "id": "fYdQBB0fJJ5d"
      }
    },
    {
      "cell_type": "code",
      "source": [
        "# Remove the \"review_text\" and \"recommend_index\" columns from the balanced dataframe\n",
        "X_b = df_balanced.drop(columns = {'review_text', 'recommend_index'}) # Independent variable\n",
        "y_b = df_balanced[\"recommend_index\"]\n",
        "\n",
        "# Split the data into training and test sets using 80-20\n",
        "x_train_b, x_test_b, y_train_b, y_test_b = train_test_split(X_b, y_b, test_size=0.2, random_state = 42, stratify=y_b)\n",
        "\n",
        "# Print the sizes of the training and test sets\n",
        "print('size of training data ', x_train_b.shape[0])\n",
        "print('size of test data ', x_test_b.shape[0])\n",
        "\n",
        "# Create a LinearSVC model with random state of 42 and tolerance of 1e-5\n",
        "model_b = LinearSVC(random_state=42, tol=1e-5)\n",
        "\n",
        "# Fit the model to the TF-IDF training data and corresponding labels\n",
        "model_b.fit(x_train_b, y_train_b)\n"
      ],
      "metadata": {
        "id": "U5prv3tC8z_g",
        "colab": {
          "base_uri": "https://localhost:8080/",
          "height": 109
        },
        "outputId": "e850b5b1-35a8-466e-b716-7ddd220af04b"
      },
      "execution_count": 74,
      "outputs": [
        {
          "output_type": "stream",
          "name": "stdout",
          "text": [
            "size of training data  1958\n",
            "size of test data  490\n"
          ]
        },
        {
          "output_type": "execute_result",
          "data": {
            "text/plain": [
              "LinearSVC(random_state=42, tol=1e-05)"
            ],
            "text/html": [
              "<style>#sk-container-id-5 {color: black;background-color: white;}#sk-container-id-5 pre{padding: 0;}#sk-container-id-5 div.sk-toggleable {background-color: white;}#sk-container-id-5 label.sk-toggleable__label {cursor: pointer;display: block;width: 100%;margin-bottom: 0;padding: 0.3em;box-sizing: border-box;text-align: center;}#sk-container-id-5 label.sk-toggleable__label-arrow:before {content: \"▸\";float: left;margin-right: 0.25em;color: #696969;}#sk-container-id-5 label.sk-toggleable__label-arrow:hover:before {color: black;}#sk-container-id-5 div.sk-estimator:hover label.sk-toggleable__label-arrow:before {color: black;}#sk-container-id-5 div.sk-toggleable__content {max-height: 0;max-width: 0;overflow: hidden;text-align: left;background-color: #f0f8ff;}#sk-container-id-5 div.sk-toggleable__content pre {margin: 0.2em;color: black;border-radius: 0.25em;background-color: #f0f8ff;}#sk-container-id-5 input.sk-toggleable__control:checked~div.sk-toggleable__content {max-height: 200px;max-width: 100%;overflow: auto;}#sk-container-id-5 input.sk-toggleable__control:checked~label.sk-toggleable__label-arrow:before {content: \"▾\";}#sk-container-id-5 div.sk-estimator input.sk-toggleable__control:checked~label.sk-toggleable__label {background-color: #d4ebff;}#sk-container-id-5 div.sk-label input.sk-toggleable__control:checked~label.sk-toggleable__label {background-color: #d4ebff;}#sk-container-id-5 input.sk-hidden--visually {border: 0;clip: rect(1px 1px 1px 1px);clip: rect(1px, 1px, 1px, 1px);height: 1px;margin: -1px;overflow: hidden;padding: 0;position: absolute;width: 1px;}#sk-container-id-5 div.sk-estimator {font-family: monospace;background-color: #f0f8ff;border: 1px dotted black;border-radius: 0.25em;box-sizing: border-box;margin-bottom: 0.5em;}#sk-container-id-5 div.sk-estimator:hover {background-color: #d4ebff;}#sk-container-id-5 div.sk-parallel-item::after {content: \"\";width: 100%;border-bottom: 1px solid gray;flex-grow: 1;}#sk-container-id-5 div.sk-label:hover label.sk-toggleable__label {background-color: #d4ebff;}#sk-container-id-5 div.sk-serial::before {content: \"\";position: absolute;border-left: 1px solid gray;box-sizing: border-box;top: 0;bottom: 0;left: 50%;z-index: 0;}#sk-container-id-5 div.sk-serial {display: flex;flex-direction: column;align-items: center;background-color: white;padding-right: 0.2em;padding-left: 0.2em;position: relative;}#sk-container-id-5 div.sk-item {position: relative;z-index: 1;}#sk-container-id-5 div.sk-parallel {display: flex;align-items: stretch;justify-content: center;background-color: white;position: relative;}#sk-container-id-5 div.sk-item::before, #sk-container-id-5 div.sk-parallel-item::before {content: \"\";position: absolute;border-left: 1px solid gray;box-sizing: border-box;top: 0;bottom: 0;left: 50%;z-index: -1;}#sk-container-id-5 div.sk-parallel-item {display: flex;flex-direction: column;z-index: 1;position: relative;background-color: white;}#sk-container-id-5 div.sk-parallel-item:first-child::after {align-self: flex-end;width: 50%;}#sk-container-id-5 div.sk-parallel-item:last-child::after {align-self: flex-start;width: 50%;}#sk-container-id-5 div.sk-parallel-item:only-child::after {width: 0;}#sk-container-id-5 div.sk-dashed-wrapped {border: 1px dashed gray;margin: 0 0.4em 0.5em 0.4em;box-sizing: border-box;padding-bottom: 0.4em;background-color: white;}#sk-container-id-5 div.sk-label label {font-family: monospace;font-weight: bold;display: inline-block;line-height: 1.2em;}#sk-container-id-5 div.sk-label-container {text-align: center;}#sk-container-id-5 div.sk-container {/* jupyter's `normalize.less` sets `[hidden] { display: none; }` but bootstrap.min.css set `[hidden] { display: none !important; }` so we also need the `!important` here to be able to override the default hidden behavior on the sphinx rendered scikit-learn.org. See: https://github.com/scikit-learn/scikit-learn/issues/21755 */display: inline-block !important;position: relative;}#sk-container-id-5 div.sk-text-repr-fallback {display: none;}</style><div id=\"sk-container-id-5\" class=\"sk-top-container\"><div class=\"sk-text-repr-fallback\"><pre>LinearSVC(random_state=42, tol=1e-05)</pre><b>In a Jupyter environment, please rerun this cell to show the HTML representation or trust the notebook. <br />On GitHub, the HTML representation is unable to render, please try loading this page with nbviewer.org.</b></div><div class=\"sk-container\" hidden><div class=\"sk-item\"><div class=\"sk-estimator sk-toggleable\"><input class=\"sk-toggleable__control sk-hidden--visually\" id=\"sk-estimator-id-5\" type=\"checkbox\" checked><label for=\"sk-estimator-id-5\" class=\"sk-toggleable__label sk-toggleable__label-arrow\">LinearSVC</label><div class=\"sk-toggleable__content\"><pre>LinearSVC(random_state=42, tol=1e-05)</pre></div></div></div></div></div>"
            ]
          },
          "metadata": {},
          "execution_count": 74
        }
      ]
    },
    {
      "cell_type": "markdown",
      "source": [
        "**Model evaluation on the balanced training set (SVM2)**"
      ],
      "metadata": {
        "id": "VvJBwOFOKzph"
      }
    },
    {
      "cell_type": "code",
      "source": [
        "# Make predictions on the training data using the trained model\n",
        "y_pred_train = model_b.predict(x_train_b)\n",
        "\n",
        "# Calculate the accuracy score by comparing the predicted labels with the actual labels from the training data\n",
        "accuracy = accuracy_score(y_train_b, y_pred_train)\n",
        "\n",
        "# Print the accuracy score\n",
        "print(\"Accuracy Score -\", accuracy)"
      ],
      "metadata": {
        "id": "347oDeVsJf3N",
        "colab": {
          "base_uri": "https://localhost:8080/"
        },
        "outputId": "18d00e5b-43ce-4c6e-e222-3e28068cbf36"
      },
      "execution_count": 75,
      "outputs": [
        {
          "output_type": "stream",
          "name": "stdout",
          "text": [
            "Accuracy Score - 0.9325842696629213\n"
          ]
        }
      ]
    },
    {
      "cell_type": "code",
      "source": [
        "classificationSummary(y_train_b, y_pred_train)"
      ],
      "metadata": {
        "id": "5en3KcBjLTKM",
        "colab": {
          "base_uri": "https://localhost:8080/"
        },
        "outputId": "b97c19d0-ef47-4f51-93e6-8bcec7e56848"
      },
      "execution_count": 76,
      "outputs": [
        {
          "output_type": "stream",
          "name": "stdout",
          "text": [
            "Confusion Matrix (Accuracy 0.9326)\n",
            "\n",
            "       Prediction\n",
            "Actual   0   1\n",
            "     0 876  42\n",
            "     1  90 950\n"
          ]
        }
      ]
    },
    {
      "cell_type": "markdown",
      "source": [
        "The models give an accuracy of 93.26%% on the training set of the balanced dataset."
      ],
      "metadata": {
        "id": "r1YzsO4dl3zu"
      }
    },
    {
      "cell_type": "markdown",
      "source": [
        "**Model evaluation on the balanced test set (SVM2)**"
      ],
      "metadata": {
        "id": "BKZOZM6KK8t8"
      }
    },
    {
      "cell_type": "code",
      "source": [
        "# Make predictions on the test data using the trained model\n",
        "y_pred_test = model_b.predict(x_test_b)\n",
        "\n",
        "# Calculate the accuracy score by comparing the predicted labels with the actual labels from the test data\n",
        "accuracy = accuracy_score(y_test_b, y_pred_test)\n",
        "\n",
        "# Print the accuracy score\n",
        "print(\"Accuracy Score -\", accuracy)"
      ],
      "metadata": {
        "id": "_XK9_WOgLBpJ",
        "colab": {
          "base_uri": "https://localhost:8080/"
        },
        "outputId": "aad68d51-d63f-4953-f8c9-b1de88adeb34"
      },
      "execution_count": 77,
      "outputs": [
        {
          "output_type": "stream",
          "name": "stdout",
          "text": [
            "Accuracy Score - 0.9469387755102041\n"
          ]
        }
      ]
    },
    {
      "cell_type": "code",
      "source": [
        "classificationSummary(y_test_b, y_pred_test)"
      ],
      "metadata": {
        "id": "5xyh3TrHLX5i",
        "colab": {
          "base_uri": "https://localhost:8080/"
        },
        "outputId": "da911aca-80f2-4ae5-a2fe-ac7a88320baf"
      },
      "execution_count": 78,
      "outputs": [
        {
          "output_type": "stream",
          "name": "stdout",
          "text": [
            "Confusion Matrix (Accuracy 0.9469)\n",
            "\n",
            "       Prediction\n",
            "Actual   0   1\n",
            "     0 220  10\n",
            "     1  16 244\n"
          ]
        }
      ]
    },
    {
      "cell_type": "markdown",
      "source": [
        "An accuracy of 94.69% was obtained on the test set of the balanced dataset."
      ],
      "metadata": {
        "id": "b3_SBmrLmVev"
      }
    },
    {
      "cell_type": "markdown",
      "source": [
        "**Generating the Precision, Recall and F1 Score for the balanced dataset (SVM2)**"
      ],
      "metadata": {
        "id": "xcLl-OhkMfi-"
      }
    },
    {
      "cell_type": "code",
      "source": [
        "# classification report for the training set\n",
        "print(classification_report(y_train_b, y_pred_train))"
      ],
      "metadata": {
        "id": "l6EO_DC7MX00",
        "colab": {
          "base_uri": "https://localhost:8080/"
        },
        "outputId": "6af6ef0d-c45e-4698-e923-f967f157a7a2"
      },
      "execution_count": 79,
      "outputs": [
        {
          "output_type": "stream",
          "name": "stdout",
          "text": [
            "              precision    recall  f1-score   support\n",
            "\n",
            "           0       0.91      0.95      0.93       918\n",
            "           1       0.96      0.91      0.94      1040\n",
            "\n",
            "    accuracy                           0.93      1958\n",
            "   macro avg       0.93      0.93      0.93      1958\n",
            "weighted avg       0.93      0.93      0.93      1958\n",
            "\n"
          ]
        }
      ]
    },
    {
      "cell_type": "markdown",
      "source": [
        ">*Considering other metrics like precision, recall and f1-score, we can see that the model has a performance of 0.93 and 0.94 f1 score for the No and yes recommendations respectively.*"
      ],
      "metadata": {
        "id": "xz6O7sOOmsrL"
      }
    },
    {
      "cell_type": "code",
      "source": [
        "# classification report for the test set\n",
        "print(classification_report(y_test_b, y_pred_test))"
      ],
      "metadata": {
        "id": "_IwvDY6gMr9w",
        "colab": {
          "base_uri": "https://localhost:8080/"
        },
        "outputId": "8d462e67-a146-4970-b48e-eaefdf555145"
      },
      "execution_count": 80,
      "outputs": [
        {
          "output_type": "stream",
          "name": "stdout",
          "text": [
            "              precision    recall  f1-score   support\n",
            "\n",
            "           0       0.93      0.96      0.94       230\n",
            "           1       0.96      0.94      0.95       260\n",
            "\n",
            "    accuracy                           0.95       490\n",
            "   macro avg       0.95      0.95      0.95       490\n",
            "weighted avg       0.95      0.95      0.95       490\n",
            "\n"
          ]
        }
      ]
    },
    {
      "cell_type": "markdown",
      "source": [
        ">*The performance of the model on the test set for predicting No recommendation improved as an f1-score of 0.94 was obtained and for the Yes recommendation, an f1-score of 0.95 was obtained. The performance of this model is stable and can be applied in a real world scenario. We will apply hyperparameter optimization to see if the f1-score can be improved.*"
      ],
      "metadata": {
        "id": "SbTCvm35moQT"
      }
    },
    {
      "cell_type": "markdown",
      "source": [
        "**Using Cross-Validation to Estimate Realistic Accuracy Metrics of the SVM2 model**\n",
        "\n",
        "For the balanced dataset, we created a train-test split so that we can accurately evaluate our model. Based on the test split on the balanced data, we got an accuracy of 94.69 on the test set%. Some of the techniques that we could use include additional text cleaning steps, choosing different model parameters, and then checking performance on the test split. Our result is always based on a single hold-out dataset that we created using the train-test split. If we go back and change the `random_state` or shuffle our data, then we might get a different test split, which might have different accuracy for the same model. Therefore, we rely heavily on a given test split to determine the accuracy of our model.\n",
        "\n",
        "*Cross validation* is a technique that allows us to train on different splits of data and validate also on different splits of data in a repetitive manner so that the final model that is trained achieves the right balance between *underfitting* and *overfitting*. Underfitting is the phenomenon where our trained model does not learn the underlying relationship well and makes similar predictions for every observation that are far away from the real value. This is because the chosen model is not complex enough to model the phenomenon (wrong choice of model) or there are insufficient observations from which to learn the relationship. Overfitting is the phenomenon where the chosen model is complex and has fit the underlying pattern very well during training but produces significant deviations on the test data. This indicates that the trained model does not generalize well to unseen data. By using cross validation technique, we become aware of these drawbacks by training and testing on multiple splits of the data and can arrive at a more realistic performance of our model.\n",
        "\n",
        "To perform cross-validation, we will use the cross_val_score method from scikit-learn. This takes as arguments the model that needs to be fit, the training dataset, and the number of folds that we want to use. In this case, we use a five-fold cross validation strategy and, depending on the number of training observations and availability of computing infrastructure, this can vary between 5 and 10."
      ],
      "metadata": {
        "id": "11ti9ee5_Rga"
      }
    },
    {
      "cell_type": "code",
      "source": [
        "# Cross Validation with 5 folds\n",
        "scores = cross_val_score(estimator = model_b,\n",
        "\n",
        "                         X = df_balanced[[\"age\", \"alike_feedback_count\",\n",
        "                                          \"department_name_dresses\", \"department_name_intimate\",\n",
        "                                          \"department_name_jackets\", \"department_name_tops\",\n",
        "                                          \"department_name_trend\", \"rating_2\", \"rating_3\", \"rating_4\",\n",
        "                                          \"rating_5\"]],\n",
        "\n",
        "                         y = df_balanced[\"recommend_index\"],\n",
        "                         cv = 5)\n",
        "\n",
        "print(\"Validation scores from each iteration of the cross validation \", scores)\n",
        "print(\"Mean value of validation scores \", scores.mean())\n",
        "print(\"Standard deviation of validation scores \", scores.std())"
      ],
      "metadata": {
        "id": "Gca23lrtMzrm",
        "colab": {
          "base_uri": "https://localhost:8080/"
        },
        "outputId": "520d995c-9804-4cb1-8d19-38e4cdd3c5eb"
      },
      "execution_count": 81,
      "outputs": [
        {
          "output_type": "stream",
          "name": "stdout",
          "text": [
            "Validation scores from each iteration of the cross validation  [0.93877551 0.91632653 0.94285714 0.9591002  0.91820041]\n",
            "Mean value of validation scores  0.9350519594340805\n",
            "Standard deviation of validation scores  0.01604817899930506\n"
          ]
        }
      ]
    },
    {
      "cell_type": "markdown",
      "source": [
        ">*From the result, we can see that the validation score varies from 91.63% to 95.9%*. This indicates that the model has a stable performance as reported earlier on the test dataset.  A more realistic accuracy that we can expect from this model is actually the average score of 93.51% derived from cross-validation. It's important to perform this exercise to understand the true potential of any model."
      ],
      "metadata": {
        "id": "ADfTi1bCSfAY"
      }
    },
    {
      "cell_type": "code",
      "source": [
        "# Get the SVM model coefficients (weights)\n",
        "feature_importance = np.abs(model_b.coef_[0])\n",
        "\n",
        "# Get the feature names (assuming they are stored in a list named 'feature_names')\n",
        "feature_names = [\"age\", \"alike_feedback_count\", \"department_name_dresses\", \"department_name_intimate\",\n",
        "                 \"department_name_jackets\", \"department_name_tops\", \"department_name_trend\", \"rating_2\",\n",
        "                 \"rating_3\", \"rating_4\",\"rating_5\"]\n",
        "\n",
        "# Sort the features based on their importance\n",
        "sorted_indices = np.argsort(feature_importance)[::-1]\n",
        "sorted_feature_importance = feature_importance[sorted_indices]\n",
        "sorted_feature_names = [feature_names[i] for i in sorted_indices]\n",
        "\n",
        "# Plot the feature importances\n",
        "plt.figure(figsize=(10, 6))\n",
        "plt.bar(range(len(feature_importance)), sorted_feature_importance)\n",
        "plt.xticks(range(len(feature_importance)), sorted_feature_names, rotation=45, ha='right')\n",
        "plt.xlabel('Feature Names')\n",
        "plt.ylabel('Feature Importance')\n",
        "plt.title('Feature Importance using SVM')\n",
        "plt.tight_layout()\n",
        "plt.show()\n"
      ],
      "metadata": {
        "colab": {
          "base_uri": "https://localhost:8080/",
          "height": 607
        },
        "id": "XOEbNh4owiQ-",
        "outputId": "795bd1c6-ea9e-42c2-adb7-61f355e2e5d4"
      },
      "execution_count": 82,
      "outputs": [
        {
          "output_type": "display_data",
          "data": {
            "text/plain": [
              "<Figure size 1000x600 with 1 Axes>"
            ],
            "image/png": "[encoded data removed]"
          },
          "metadata": {}
        }
      ]
    },
    {
      "cell_type": "markdown",
      "source": [
        ">*The chart above shows that the most important feature that determines whether a product is recommended is rating_5 i.e products with a rating of 5 are mostly recommended for purchase by customers who have previously bought them. Age and department_name_dresses are the least predictors in determining if a product will be recommended or not.*"
      ],
      "metadata": {
        "id": "j4uZB8a-yafo"
      }
    }
  ],
  "metadata": {
    "colab": {
      "provenance": []
    },
    "kernelspec": {
      "display_name": "Python 3",
      "name": "python3"
    },
    "language_info": {
      "name": "python"
    }
  },
  "nbformat": 4,
  "nbformat_minor": 0
}